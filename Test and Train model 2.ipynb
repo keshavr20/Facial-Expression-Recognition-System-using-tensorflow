{
 "cells": [
  {
   "cell_type": "code",
   "execution_count": 6,
   "id": "4d790df3",
   "metadata": {},
   "outputs": [],
   "source": [
    "import os"
   ]
  },
  {
   "cell_type": "code",
   "execution_count": 2,
   "id": "bb64dd2c",
   "metadata": {
    "scrolled": true
   },
   "outputs": [
    {
     "name": "stdout",
     "output_type": "stream",
     "text": [
      "Requirement already satisfied: opencv-python in c:\\python310\\lib\\site-packages (4.7.0.68)\n",
      "Requirement already satisfied: numpy>=1.21.2 in c:\\python310\\lib\\site-packages (from opencv-python) (1.23.1)\n",
      "Note: you may need to restart the kernel to use updated packages.\n"
     ]
    }
   ],
   "source": [
    "pip install opencv-python"
   ]
  },
  {
   "cell_type": "code",
   "execution_count": 5,
   "id": "3184af04",
   "metadata": {},
   "outputs": [
    {
     "name": "stdout",
     "output_type": "stream",
     "text": [
      "Requirement already satisfied: tensorflow in c:\\python310\\lib\\site-packages (2.11.0)\n",
      "Requirement already satisfied: tensorflow-intel==2.11.0 in c:\\python310\\lib\\site-packages (from tensorflow) (2.11.0)\n",
      "Requirement already satisfied: numpy>=1.20 in c:\\python310\\lib\\site-packages (from tensorflow-intel==2.11.0->tensorflow) (1.23.1)\n",
      "Requirement already satisfied: keras<2.12,>=2.11.0 in c:\\python310\\lib\\site-packages (from tensorflow-intel==2.11.0->tensorflow) (2.11.0)\n",
      "Requirement already satisfied: tensorflow-io-gcs-filesystem>=0.23.1 in c:\\python310\\lib\\site-packages (from tensorflow-intel==2.11.0->tensorflow) (0.30.0)\n",
      "Requirement already satisfied: tensorflow-estimator<2.12,>=2.11.0 in c:\\python310\\lib\\site-packages (from tensorflow-intel==2.11.0->tensorflow) (2.11.0)\n",
      "Requirement already satisfied: wrapt>=1.11.0 in c:\\python310\\lib\\site-packages (from tensorflow-intel==2.11.0->tensorflow) (1.14.1)\n",
      "Requirement already satisfied: termcolor>=1.1.0 in c:\\python310\\lib\\site-packages (from tensorflow-intel==2.11.0->tensorflow) (2.2.0)\n",
      "Requirement already satisfied: typing-extensions>=3.6.6 in c:\\python310\\lib\\site-packages (from tensorflow-intel==2.11.0->tensorflow) (4.4.0)\n",
      "Requirement already satisfied: libclang>=13.0.0 in c:\\python310\\lib\\site-packages (from tensorflow-intel==2.11.0->tensorflow) (15.0.6.1)\n",
      "Requirement already satisfied: opt-einsum>=2.3.2 in c:\\python310\\lib\\site-packages (from tensorflow-intel==2.11.0->tensorflow) (3.3.0)\n",
      "Requirement already satisfied: grpcio<2.0,>=1.24.3 in c:\\python310\\lib\\site-packages (from tensorflow-intel==2.11.0->tensorflow) (1.51.1)\n",
      "Requirement already satisfied: setuptools in c:\\python310\\lib\\site-packages (from tensorflow-intel==2.11.0->tensorflow) (58.1.0)\n",
      "Requirement already satisfied: google-pasta>=0.1.1 in c:\\python310\\lib\\site-packages (from tensorflow-intel==2.11.0->tensorflow) (0.2.0)\n",
      "Requirement already satisfied: h5py>=2.9.0 in c:\\python310\\lib\\site-packages (from tensorflow-intel==2.11.0->tensorflow) (3.8.0)\n",
      "Requirement already satisfied: packaging in c:\\python310\\lib\\site-packages (from tensorflow-intel==2.11.0->tensorflow) (21.3)\n",
      "Requirement already satisfied: flatbuffers>=2.0 in c:\\python310\\lib\\site-packages (from tensorflow-intel==2.11.0->tensorflow) (23.1.21)\n",
      "Requirement already satisfied: six>=1.12.0 in c:\\python310\\lib\\site-packages (from tensorflow-intel==2.11.0->tensorflow) (1.16.0)\n",
      "Requirement already satisfied: absl-py>=1.0.0 in c:\\python310\\lib\\site-packages (from tensorflow-intel==2.11.0->tensorflow) (1.1.0)\n",
      "Requirement already satisfied: protobuf<3.20,>=3.9.2 in c:\\python310\\lib\\site-packages (from tensorflow-intel==2.11.0->tensorflow) (3.19.6)\n",
      "Requirement already satisfied: astunparse>=1.6.0 in c:\\python310\\lib\\site-packages (from tensorflow-intel==2.11.0->tensorflow) (1.6.3)\n",
      "Requirement already satisfied: gast<=0.4.0,>=0.2.1 in c:\\python310\\lib\\site-packages (from tensorflow-intel==2.11.0->tensorflow) (0.4.0)\n",
      "Requirement already satisfied: tensorboard<2.12,>=2.11 in c:\\python310\\lib\\site-packages (from tensorflow-intel==2.11.0->tensorflow) (2.11.2)\n",
      "Requirement already satisfied: wheel<1.0,>=0.23.0 in c:\\python310\\lib\\site-packages (from astunparse>=1.6.0->tensorflow-intel==2.11.0->tensorflow) (0.37.1)\n",
      "Requirement already satisfied: google-auth<3,>=1.6.3 in c:\\python310\\lib\\site-packages (from tensorboard<2.12,>=2.11->tensorflow-intel==2.11.0->tensorflow) (2.16.0)\n",
      "Requirement already satisfied: tensorboard-plugin-wit>=1.6.0 in c:\\python310\\lib\\site-packages (from tensorboard<2.12,>=2.11->tensorflow-intel==2.11.0->tensorflow) (1.8.1)\n",
      "Requirement already satisfied: requests<3,>=2.21.0 in c:\\python310\\lib\\site-packages (from tensorboard<2.12,>=2.11->tensorflow-intel==2.11.0->tensorflow) (2.28.2)\n",
      "Requirement already satisfied: tensorboard-data-server<0.7.0,>=0.6.0 in c:\\python310\\lib\\site-packages (from tensorboard<2.12,>=2.11->tensorflow-intel==2.11.0->tensorflow) (0.6.1)\n",
      "Requirement already satisfied: markdown>=2.6.8 in c:\\python310\\lib\\site-packages (from tensorboard<2.12,>=2.11->tensorflow-intel==2.11.0->tensorflow) (3.4.1)\n",
      "Requirement already satisfied: google-auth-oauthlib<0.5,>=0.4.1 in c:\\python310\\lib\\site-packages (from tensorboard<2.12,>=2.11->tensorflow-intel==2.11.0->tensorflow) (0.4.6)\n",
      "Requirement already satisfied: werkzeug>=1.0.1 in c:\\python310\\lib\\site-packages (from tensorboard<2.12,>=2.11->tensorflow-intel==2.11.0->tensorflow) (2.2.2)\n",
      "Requirement already satisfied: pyparsing!=3.0.5,>=2.0.2 in c:\\python310\\lib\\site-packages (from packaging->tensorflow-intel==2.11.0->tensorflow) (3.0.9)\n",
      "Requirement already satisfied: cachetools<6.0,>=2.0.0 in c:\\python310\\lib\\site-packages (from google-auth<3,>=1.6.3->tensorboard<2.12,>=2.11->tensorflow-intel==2.11.0->tensorflow) (5.3.0)\n",
      "Requirement already satisfied: pyasn1-modules>=0.2.1 in c:\\python310\\lib\\site-packages (from google-auth<3,>=1.6.3->tensorboard<2.12,>=2.11->tensorflow-intel==2.11.0->tensorflow) (0.2.8)\n",
      "Requirement already satisfied: rsa<5,>=3.1.4 in c:\\python310\\lib\\site-packages (from google-auth<3,>=1.6.3->tensorboard<2.12,>=2.11->tensorflow-intel==2.11.0->tensorflow) (4.9)\n",
      "Requirement already satisfied: requests-oauthlib>=0.7.0 in c:\\python310\\lib\\site-packages (from google-auth-oauthlib<0.5,>=0.4.1->tensorboard<2.12,>=2.11->tensorflow-intel==2.11.0->tensorflow) (1.3.1)\n",
      "Requirement already satisfied: charset-normalizer<4,>=2 in c:\\python310\\lib\\site-packages (from requests<3,>=2.21.0->tensorboard<2.12,>=2.11->tensorflow-intel==2.11.0->tensorflow) (3.0.1)\n",
      "Requirement already satisfied: urllib3<1.27,>=1.21.1 in c:\\python310\\lib\\site-packages (from requests<3,>=2.21.0->tensorboard<2.12,>=2.11->tensorflow-intel==2.11.0->tensorflow) (1.26.14)\n",
      "Requirement already satisfied: certifi>=2017.4.17 in c:\\python310\\lib\\site-packages (from requests<3,>=2.21.0->tensorboard<2.12,>=2.11->tensorflow-intel==2.11.0->tensorflow) (2022.12.7)\n",
      "Requirement already satisfied: idna<4,>=2.5 in c:\\python310\\lib\\site-packages (from requests<3,>=2.21.0->tensorboard<2.12,>=2.11->tensorflow-intel==2.11.0->tensorflow) (3.4)\n",
      "Requirement already satisfied: MarkupSafe>=2.1.1 in c:\\python310\\lib\\site-packages (from werkzeug>=1.0.1->tensorboard<2.12,>=2.11->tensorflow-intel==2.11.0->tensorflow) (2.1.1)\n",
      "Requirement already satisfied: pyasn1<0.5.0,>=0.4.6 in c:\\python310\\lib\\site-packages (from pyasn1-modules>=0.2.1->google-auth<3,>=1.6.3->tensorboard<2.12,>=2.11->tensorflow-intel==2.11.0->tensorflow) (0.4.8)\n",
      "Requirement already satisfied: oauthlib>=3.0.0 in c:\\python310\\lib\\site-packages (from requests-oauthlib>=0.7.0->google-auth-oauthlib<0.5,>=0.4.1->tensorboard<2.12,>=2.11->tensorflow-intel==2.11.0->tensorflow) (3.2.2)\n",
      "Note: you may need to restart the kernel to use updated packages.\n"
     ]
    }
   ],
   "source": [
    "pip install tensorflow"
   ]
  },
  {
   "cell_type": "code",
   "execution_count": 6,
   "id": "fdae926e",
   "metadata": {},
   "outputs": [
    {
     "name": "stdout",
     "output_type": "stream",
     "text": [
      "Requirement already satisfied: pip in c:\\python310\\lib\\site-packages (23.0.1)\n",
      "Note: you may need to restart the kernel to use updated packages.\n"
     ]
    }
   ],
   "source": [
    "pip install --upgrade pip"
   ]
  },
  {
   "cell_type": "code",
   "execution_count": 1,
   "id": "e8cc8cee",
   "metadata": {},
   "outputs": [],
   "source": [
    "import pandas as pd\n",
    "import numpy as np \n",
    "import tensorflow as tf\n",
    "import cv2\n",
    "import os\n",
    "import matplotlib.pyplot as plt\n",
    "import numpy as np\n",
    "import pandas as pd\n",
    "import matplotlib.pyplot as plt\n",
    "import seaborn as sns\n",
    "from sklearn.model_selection import train_test_split\n",
    "from sklearn.ensemble import RandomForestClassifier\n",
    "from tensorflow import keras\n",
    "from sklearn.metrics import confusion_matrix\n",
    "from tensorflow.keras import layers\n",
    "import datetime\n",
    "%matplotlib inline"
   ]
  },
  {
   "cell_type": "code",
   "execution_count": 32,
   "id": "8ddf994d",
   "metadata": {},
   "outputs": [
    {
     "name": "stdout",
     "output_type": "stream",
     "text": [
      "No GPU device found\n"
     ]
    }
   ],
   "source": [
    "gpus = tf.config.experimental.list_physical_devices('GPU')\n",
    "if gpus:\n",
    "  for gpu in gpus:\n",
    "    tf.config.experimental.set_memory_growth(gpu, True)\n",
    "else:\n",
    "  print(\"No GPU device found\")"
   ]
  },
  {
   "cell_type": "code",
   "execution_count": 31,
   "id": "90e7e222",
   "metadata": {},
   "outputs": [
    {
     "ename": "IndexError",
     "evalue": "list index out of range",
     "output_type": "error",
     "traceback": [
      "\u001b[1;31m---------------------------------------------------------------------------\u001b[0m",
      "\u001b[1;31mIndexError\u001b[0m                                Traceback (most recent call last)",
      "Input \u001b[1;32mIn [31]\u001b[0m, in \u001b[0;36m<cell line: 2>\u001b[1;34m()\u001b[0m\n\u001b[0;32m      1\u001b[0m device\u001b[38;5;241m=\u001b[39mtf\u001b[38;5;241m.\u001b[39mconfig\u001b[38;5;241m.\u001b[39mlist_physical_devices(\u001b[38;5;124m'\u001b[39m\u001b[38;5;124mGPU\u001b[39m\u001b[38;5;124m'\u001b[39m)\n\u001b[1;32m----> 2\u001b[0m tf\u001b[38;5;241m.\u001b[39mconfig\u001b[38;5;241m.\u001b[39mexperimental\u001b[38;5;241m.\u001b[39mset_memory_growth(\u001b[43mdevice\u001b[49m\u001b[43m[\u001b[49m\u001b[38;5;241;43m0\u001b[39;49m\u001b[43m]\u001b[49m,\u001b[38;5;28;01mTrue\u001b[39;00m)\n",
      "\u001b[1;31mIndexError\u001b[0m: list index out of range"
     ]
    }
   ],
   "source": [
    "device=tf.config.list_physical_devices('GPU')\n",
    "tf.config.experimental.set_memory_growth(device[0],True)"
   ]
  },
  {
   "cell_type": "code",
   "execution_count": 36,
   "id": "482aa0c9",
   "metadata": {},
   "outputs": [
    {
     "name": "stdout",
     "output_type": "stream",
     "text": [
      "Collecting split-foldersNote: you may need to restart the kernel to use updated packages.\n",
      "\n",
      "  Downloading split_folders-0.5.1-py3-none-any.whl (8.4 kB)\n",
      "Installing collected packages: split-folders\n",
      "Successfully installed split-folders-0.5.1\n"
     ]
    }
   ],
   "source": [
    "pip install split-folders"
   ]
  },
  {
   "cell_type": "code",
   "execution_count": 2,
   "id": "be30e1f3",
   "metadata": {},
   "outputs": [
    {
     "name": "stdout",
     "output_type": "stream",
     "text": [
      "7\n",
      "7\n"
     ]
    }
   ],
   "source": [
    "train_dir='D:/UGP II ideas/project/Facial Expression Recognition/Data Set/train'\n",
    "test_dir='D:/UGP II ideas/project/Facial Expression Recognition/Data Set/test'\n",
    "print(len(os.listdir(train_dir)))\n",
    "print(len(os.listdir(test_dir)))"
   ]
  },
  {
   "cell_type": "code",
   "execution_count": 29,
   "id": "01ad2248",
   "metadata": {},
   "outputs": [],
   "source": [
    "start = datetime.datetime.now()\n",
    "with tf.device('/gpu:0'):\n",
    "    a = tf.constant([1.0, 2.0, 3.0, 4.0, 5.0, 6.0], shape=[2, 3], name='a')\n",
    "    b = tf.constant([1.0, 2.0, 3.0, 4.0, 5.0, 6.0], shape=[3, 2], name='b')\n",
    "    c = tf.matmul(a, b)\n",
    "end = datetime.datetime.now()"
   ]
  },
  {
   "cell_type": "code",
   "execution_count": 30,
   "id": "161f2db6",
   "metadata": {},
   "outputs": [
    {
     "name": "stdout",
     "output_type": "stream",
     "text": [
      "0:00:00\n"
     ]
    }
   ],
   "source": [
    "print(end-start)"
   ]
  },
  {
   "cell_type": "code",
   "execution_count": 3,
   "id": "49e014ac",
   "metadata": {},
   "outputs": [
    {
     "data": {
      "text/plain": [
       "(48, 48, 3)"
      ]
     },
     "execution_count": 3,
     "metadata": {},
     "output_type": "execute_result"
    }
   ],
   "source": [
    "img=cv2.imread('D:/UGP II ideas/project/Facial Expression Recognition/Data Set/train/angry/Training_10290703.jpg')\n",
    "# img_binary = cv2.\n",
    "# ret,thresh = cv2.threshold(img,90,120,0)\n",
    "#plt.imshow(thresh)\n",
    "img.shape"
   ]
  },
  {
   "cell_type": "code",
   "execution_count": 4,
   "id": "dddefce9",
   "metadata": {},
   "outputs": [
    {
     "name": "stdout",
     "output_type": "stream",
     "text": [
      "Found 28709 images belonging to 7 classes.\n",
      "Found 1432 images belonging to 7 classes.\n"
     ]
    }
   ],
   "source": [
    "from tensorflow.keras.preprocessing.image import ImageDataGenerator\n",
    "\n",
    "train_datagen=ImageDataGenerator(rescale=1.0/255.0, \n",
    "                           width_shift_range=0.1,\n",
    "                           height_shift_range=0.1,\n",
    "                           horizontal_flip=True)\n",
    "val_datagen=ImageDataGenerator(rescale=1.0/255.0,validation_split=0.2)\n",
    "\n",
    "trainDatagen=train_datagen.flow_from_directory(train_dir,\n",
    "                                 target_size=(48,48),\n",
    "                                 batch_size=64,\n",
    "                                 class_mode='categorical',\n",
    "                                 color_mode='grayscale',subset='training')\n",
    "                                \n",
    "valDatagen=val_datagen.flow_from_directory(test_dir,\n",
    "                                      target_size=(48,48),\n",
    "                                      batch_size=64,\n",
    "                                      class_mode='categorical',\n",
    "                                      color_mode='grayscale',subset='validation')\n",
    "\n"
   ]
  },
  {
   "cell_type": "code",
   "execution_count": 128,
   "id": "1118ce77",
   "metadata": {
    "scrolled": false
   },
   "outputs": [
    {
     "name": "stdout",
     "output_type": "stream",
     "text": [
      "Model: \"sequential_3\"\n",
      "_________________________________________________________________\n",
      " Layer (type)                Output Shape              Param #   \n",
      "=================================================================\n",
      " conv2d_14 (Conv2D)          (None, 46, 46, 32)        320       \n",
      "                                                                 \n",
      " conv2d_15 (Conv2D)          (None, 44, 44, 32)        9248      \n",
      "                                                                 \n",
      " batch_normalization_12 (Bat  (None, 44, 44, 32)       128       \n",
      " chNormalization)                                                \n",
      "                                                                 \n",
      " max_pooling2d_8 (MaxPooling  (None, 22, 22, 32)       0         \n",
      " 2D)                                                             \n",
      "                                                                 \n",
      " dropout_10 (Dropout)        (None, 22, 22, 32)        0         \n",
      "                                                                 \n",
      " conv2d_16 (Conv2D)          (None, 20, 20, 64)        18496     \n",
      "                                                                 \n",
      " batch_normalization_13 (Bat  (None, 20, 20, 64)       256       \n",
      " chNormalization)                                                \n",
      "                                                                 \n",
      " conv2d_17 (Conv2D)          (None, 18, 18, 64)        36928     \n",
      "                                                                 \n",
      " batch_normalization_14 (Bat  (None, 18, 18, 64)       256       \n",
      " chNormalization)                                                \n",
      "                                                                 \n",
      " max_pooling2d_9 (MaxPooling  (None, 9, 9, 64)         0         \n",
      " 2D)                                                             \n",
      "                                                                 \n",
      " dropout_11 (Dropout)        (None, 9, 9, 64)          0         \n",
      "                                                                 \n",
      " conv2d_18 (Conv2D)          (None, 7, 7, 128)         73856     \n",
      "                                                                 \n",
      " batch_normalization_15 (Bat  (None, 7, 7, 128)        512       \n",
      " chNormalization)                                                \n",
      "                                                                 \n",
      " conv2d_19 (Conv2D)          (None, 5, 5, 128)         147584    \n",
      "                                                                 \n",
      " batch_normalization_16 (Bat  (None, 5, 5, 128)        512       \n",
      " chNormalization)                                                \n",
      "                                                                 \n",
      " max_pooling2d_10 (MaxPoolin  (None, 2, 2, 128)        0         \n",
      " g2D)                                                            \n",
      "                                                                 \n",
      " dropout_12 (Dropout)        (None, 2, 2, 128)         0         \n",
      "                                                                 \n",
      " flatten_3 (Flatten)         (None, 512)               0         \n",
      "                                                                 \n",
      " dense_7 (Dense)             (None, 1024)              525312    \n",
      "                                                                 \n",
      " batch_normalization_17 (Bat  (None, 1024)             4096      \n",
      " chNormalization)                                                \n",
      "                                                                 \n",
      " dropout_13 (Dropout)        (None, 1024)              0         \n",
      "                                                                 \n",
      " dense_8 (Dense)             (None, 7)                 7175      \n",
      "                                                                 \n",
      "=================================================================\n",
      "Total params: 824,679\n",
      "Trainable params: 821,799\n",
      "Non-trainable params: 2,880\n",
      "_________________________________________________________________\n"
     ]
    }
   ],
   "source": [
    "model = tf.keras.Sequential()\n",
    "model.add(tf.keras.layers.Conv2D(32, kernel_size=(3, 3), activation='relu', input_shape=(48,48,1)))\n",
    "model.add(tf.keras.layers.Conv2D(32, kernel_size=(3, 3), activation='relu'))\n",
    "model.add(tf.keras.layers.BatchNormalization())\n",
    "model.add(tf.keras.layers.MaxPooling2D(pool_size=(2, 2)))\n",
    "model.add(tf.keras.layers.Dropout(0.25))\n",
    "model.add(tf.keras.layers.Conv2D(64, kernel_size=(3, 3), activation='relu'))\n",
    "model.add(tf.keras.layers.BatchNormalization())\n",
    "model.add(tf.keras.layers.Conv2D(64, kernel_size=(3, 3), activation='relu'))\n",
    "model.add(tf.keras.layers.BatchNormalization())\n",
    "model.add(tf.keras.layers.MaxPooling2D(pool_size=(2, 2)))\n",
    "model.add(tf.keras.layers.Dropout(0.25))\n",
    "model.add(tf.keras.layers.Conv2D(128, kernel_size=(3, 3), activation='relu'))\n",
    "model.add(tf.keras.layers.BatchNormalization())\n",
    "model.add(tf.keras.layers.Conv2D(128, kernel_size=(3, 3), activation='relu'))\n",
    "model.add(tf.keras.layers.BatchNormalization())\n",
    "model.add(tf.keras.layers.MaxPooling2D(pool_size=(2, 2)))\n",
    "model.add(tf.keras.layers.Dropout(0.25))\n",
    "model.add(tf.keras.layers.Flatten())\n",
    "model.add(tf.keras.layers.Dense(1024, activation='relu'))\n",
    "model.add(tf.keras.layers.BatchNormalization())\n",
    "model.add(tf.keras.layers.Dropout(0.5))\n",
    "model.add(tf.keras.layers.Dense(7, activation='softmax'))\n",
    "model.summary()\n"
   ]
  },
  {
   "cell_type": "code",
   "execution_count": 7,
   "id": "f79b333a",
   "metadata": {},
   "outputs": [],
   "source": [
    "class mycallbacks(tf.keras.callbacks.Callback):\n",
    "    def on_epoch_end(self,epochs,logs={}):\n",
    "        if(logs.get('accuracy')>=0.99):\n",
    "            self.model.stop_training=True\n",
    "            print(\"MODEL AS REACHED AMAZING ACCURACY\")"
   ]
  },
  {
   "cell_type": "code",
   "execution_count": 131,
   "id": "9746a5a1",
   "metadata": {},
   "outputs": [
    {
     "name": "stdout",
     "output_type": "stream",
     "text": [
      "Epoch 1/50\n",
      "359/359 [==============================] - 500s 1s/step - loss: 2.3356 - accuracy: 0.2155 - val_loss: 1.7915 - val_accuracy: 0.2486\n",
      "Epoch 2/50\n",
      "359/359 [==============================] - 75s 208ms/step - loss: 1.8513 - accuracy: 0.2992 - val_loss: 1.8002 - val_accuracy: 0.3010\n",
      "Epoch 3/50\n",
      "359/359 [==============================] - 73s 202ms/step - loss: 1.6845 - accuracy: 0.3529 - val_loss: 1.7965 - val_accuracy: 0.3122\n",
      "Epoch 4/50\n",
      "359/359 [==============================] - 75s 209ms/step - loss: 1.5670 - accuracy: 0.4013 - val_loss: 1.7272 - val_accuracy: 0.3520\n",
      "Epoch 5/50\n",
      "359/359 [==============================] - 70s 196ms/step - loss: 1.4893 - accuracy: 0.4317 - val_loss: 1.4519 - val_accuracy: 0.4791\n",
      "Epoch 6/50\n",
      "359/359 [==============================] - 71s 196ms/step - loss: 1.4206 - accuracy: 0.4558 - val_loss: 1.3669 - val_accuracy: 0.4846\n",
      "Epoch 7/50\n",
      "359/359 [==============================] - 68s 188ms/step - loss: 1.3800 - accuracy: 0.4685 - val_loss: 1.3858 - val_accuracy: 0.4714\n",
      "Epoch 8/50\n",
      "359/359 [==============================] - 67s 186ms/step - loss: 1.3506 - accuracy: 0.4839 - val_loss: 1.2330 - val_accuracy: 0.5272\n",
      "Epoch 9/50\n",
      "359/359 [==============================] - 67s 186ms/step - loss: 1.3150 - accuracy: 0.5002 - val_loss: 1.2660 - val_accuracy: 0.5314\n",
      "Epoch 10/50\n",
      "359/359 [==============================] - 68s 188ms/step - loss: 1.2857 - accuracy: 0.5108 - val_loss: 1.3289 - val_accuracy: 0.5154\n",
      "Epoch 11/50\n",
      "359/359 [==============================] - 69s 191ms/step - loss: 1.2707 - accuracy: 0.5206 - val_loss: 1.2178 - val_accuracy: 0.5433\n",
      "Epoch 12/50\n",
      "359/359 [==============================] - 124s 346ms/step - loss: 1.2474 - accuracy: 0.5273 - val_loss: 1.1643 - val_accuracy: 0.5580\n",
      "Epoch 13/50\n",
      "359/359 [==============================] - 185s 515ms/step - loss: 1.2342 - accuracy: 0.5345 - val_loss: 1.1376 - val_accuracy: 0.5684\n",
      "Epoch 14/50\n",
      "359/359 [==============================] - 79s 221ms/step - loss: 1.2191 - accuracy: 0.5382 - val_loss: 1.2658 - val_accuracy: 0.5454\n",
      "Epoch 15/50\n",
      "359/359 [==============================] - 75s 210ms/step - loss: 1.2025 - accuracy: 0.5431 - val_loss: 1.1317 - val_accuracy: 0.5754\n",
      "Epoch 16/50\n",
      "359/359 [==============================] - 72s 201ms/step - loss: 1.1842 - accuracy: 0.5515 - val_loss: 1.2355 - val_accuracy: 0.5482\n",
      "Epoch 17/50\n",
      "359/359 [==============================] - 71s 197ms/step - loss: 1.1730 - accuracy: 0.5588 - val_loss: 1.1862 - val_accuracy: 0.5552\n",
      "Epoch 18/50\n",
      "359/359 [==============================] - 71s 199ms/step - loss: 1.1687 - accuracy: 0.5610 - val_loss: 1.0659 - val_accuracy: 0.6047\n",
      "Epoch 19/50\n",
      "359/359 [==============================] - 75s 209ms/step - loss: 1.1529 - accuracy: 0.5650 - val_loss: 1.0840 - val_accuracy: 0.5922\n",
      "Epoch 20/50\n",
      "359/359 [==============================] - 66s 183ms/step - loss: 1.1457 - accuracy: 0.5687 - val_loss: 1.0375 - val_accuracy: 0.6110\n",
      "Epoch 21/50\n",
      "359/359 [==============================] - 65s 182ms/step - loss: 1.1386 - accuracy: 0.5693 - val_loss: 1.0825 - val_accuracy: 0.5936\n",
      "Epoch 22/50\n",
      "359/359 [==============================] - 65s 181ms/step - loss: 1.1227 - accuracy: 0.5745 - val_loss: 1.0216 - val_accuracy: 0.6180\n",
      "Epoch 23/50\n",
      "359/359 [==============================] - 65s 181ms/step - loss: 1.1160 - accuracy: 0.5818 - val_loss: 1.0636 - val_accuracy: 0.6201\n",
      "Epoch 24/50\n",
      "359/359 [==============================] - 66s 183ms/step - loss: 1.1107 - accuracy: 0.5829 - val_loss: 1.0837 - val_accuracy: 0.6020\n",
      "Epoch 25/50\n",
      "359/359 [==============================] - 65s 182ms/step - loss: 1.0925 - accuracy: 0.5913 - val_loss: 1.1330 - val_accuracy: 0.5880\n",
      "Epoch 26/50\n",
      "359/359 [==============================] - 65s 180ms/step - loss: 1.0893 - accuracy: 0.5895 - val_loss: 1.1818 - val_accuracy: 0.5615\n",
      "Epoch 27/50\n",
      "359/359 [==============================] - 76s 212ms/step - loss: 1.0849 - accuracy: 0.5909 - val_loss: 1.0021 - val_accuracy: 0.6306\n",
      "Epoch 28/50\n",
      "359/359 [==============================] - 67s 186ms/step - loss: 1.0704 - accuracy: 0.6002 - val_loss: 1.0286 - val_accuracy: 0.6180\n",
      "Epoch 29/50\n",
      "359/359 [==============================] - 69s 191ms/step - loss: 1.0683 - accuracy: 0.6002 - val_loss: 1.0090 - val_accuracy: 0.6201\n",
      "Epoch 30/50\n",
      "359/359 [==============================] - 67s 186ms/step - loss: 1.0631 - accuracy: 0.6006 - val_loss: 1.0188 - val_accuracy: 0.6229\n",
      "Epoch 31/50\n",
      "359/359 [==============================] - 67s 187ms/step - loss: 1.0652 - accuracy: 0.5982 - val_loss: 0.9836 - val_accuracy: 0.6362\n",
      "Epoch 32/50\n",
      "359/359 [==============================] - 67s 186ms/step - loss: 1.0561 - accuracy: 0.6008 - val_loss: 0.9825 - val_accuracy: 0.6285\n",
      "Epoch 33/50\n",
      "359/359 [==============================] - 66s 183ms/step - loss: 1.0482 - accuracy: 0.6033 - val_loss: 0.9981 - val_accuracy: 0.6243\n",
      "Epoch 34/50\n",
      "359/359 [==============================] - 65s 182ms/step - loss: 1.0433 - accuracy: 0.6066 - val_loss: 0.9744 - val_accuracy: 0.6208\n",
      "Epoch 35/50\n",
      "359/359 [==============================] - 66s 185ms/step - loss: 1.0293 - accuracy: 0.6119 - val_loss: 0.9935 - val_accuracy: 0.6201\n",
      "Epoch 36/50\n",
      "359/359 [==============================] - 68s 190ms/step - loss: 1.0306 - accuracy: 0.6091 - val_loss: 0.9844 - val_accuracy: 0.6292\n",
      "Epoch 37/50\n",
      "359/359 [==============================] - 68s 189ms/step - loss: 1.0206 - accuracy: 0.6207 - val_loss: 1.1037 - val_accuracy: 0.5796\n",
      "Epoch 38/50\n",
      "359/359 [==============================] - 69s 193ms/step - loss: 1.0247 - accuracy: 0.6161 - val_loss: 1.0197 - val_accuracy: 0.6243\n",
      "Epoch 39/50\n",
      "359/359 [==============================] - 69s 193ms/step - loss: 1.0152 - accuracy: 0.6184 - val_loss: 0.9750 - val_accuracy: 0.6355\n",
      "Epoch 40/50\n",
      "359/359 [==============================] - 75s 208ms/step - loss: 1.0067 - accuracy: 0.6217 - val_loss: 0.9736 - val_accuracy: 0.6404\n",
      "Epoch 41/50\n",
      "359/359 [==============================] - 74s 205ms/step - loss: 1.0090 - accuracy: 0.6193 - val_loss: 0.9853 - val_accuracy: 0.6432\n",
      "Epoch 42/50\n",
      "359/359 [==============================] - 79s 220ms/step - loss: 0.9937 - accuracy: 0.6265 - val_loss: 0.9620 - val_accuracy: 0.6355\n",
      "Epoch 43/50\n",
      "359/359 [==============================] - 107s 298ms/step - loss: 0.9937 - accuracy: 0.6277 - val_loss: 0.9786 - val_accuracy: 0.6236\n",
      "Epoch 44/50\n",
      "359/359 [==============================] - 72s 201ms/step - loss: 0.9925 - accuracy: 0.6282 - val_loss: 0.9790 - val_accuracy: 0.6411\n",
      "Epoch 45/50\n",
      "359/359 [==============================] - 73s 203ms/step - loss: 0.9931 - accuracy: 0.6311 - val_loss: 0.9931 - val_accuracy: 0.6271\n",
      "Epoch 46/50\n",
      "359/359 [==============================] - 69s 192ms/step - loss: 0.9827 - accuracy: 0.6321 - val_loss: 0.9428 - val_accuracy: 0.6641\n",
      "Epoch 47/50\n",
      "359/359 [==============================] - 71s 196ms/step - loss: 0.9810 - accuracy: 0.6323 - val_loss: 0.9833 - val_accuracy: 0.6348\n",
      "Epoch 48/50\n",
      "359/359 [==============================] - 72s 201ms/step - loss: 0.9638 - accuracy: 0.6386 - val_loss: 0.9544 - val_accuracy: 0.6522\n",
      "Epoch 49/50\n",
      "359/359 [==============================] - 70s 194ms/step - loss: 0.9747 - accuracy: 0.6339 - val_loss: 0.9851 - val_accuracy: 0.6369\n",
      "Epoch 50/50\n",
      "359/359 [==============================] - 71s 198ms/step - loss: 0.9776 - accuracy: 0.6351 - val_loss: 0.9716 - val_accuracy: 0.6362\n"
     ]
    }
   ],
   "source": [
    "# Compile the model\n",
    "model.compile(optimizer='adam', loss='categorical_crossentropy', metrics=['accuracy'])\n",
    "\n",
    "# Train the model\n",
    "history1 = model.fit(x=trainDatagen,epochs=50,validation_data=valDatagen,shuffle=True)"
   ]
  },
  {
   "cell_type": "code",
   "execution_count": 21,
   "id": "8263dd40",
   "metadata": {},
   "outputs": [
    {
     "ename": "NameError",
     "evalue": "name 'history1' is not defined",
     "output_type": "error",
     "traceback": [
      "\u001b[1;31m---------------------------------------------------------------------------\u001b[0m",
      "\u001b[1;31mNameError\u001b[0m                                 Traceback (most recent call last)",
      "Input \u001b[1;32mIn [21]\u001b[0m, in \u001b[0;36m<cell line: 2>\u001b[1;34m()\u001b[0m\n\u001b[0;32m      1\u001b[0m fig , ax \u001b[38;5;241m=\u001b[39m plt\u001b[38;5;241m.\u001b[39msubplots(\u001b[38;5;241m1\u001b[39m,\u001b[38;5;241m2\u001b[39m)\n\u001b[1;32m----> 2\u001b[0m train_acc \u001b[38;5;241m=\u001b[39m \u001b[43mhistory1\u001b[49m\u001b[38;5;241m.\u001b[39mhistory[\u001b[38;5;124m'\u001b[39m\u001b[38;5;124maccuracy\u001b[39m\u001b[38;5;124m'\u001b[39m]\n\u001b[0;32m      3\u001b[0m train_loss \u001b[38;5;241m=\u001b[39m history1\u001b[38;5;241m.\u001b[39mhistory[\u001b[38;5;124m'\u001b[39m\u001b[38;5;124mloss\u001b[39m\u001b[38;5;124m'\u001b[39m]\n\u001b[0;32m      4\u001b[0m fig\u001b[38;5;241m.\u001b[39mset_size_inches(\u001b[38;5;241m12\u001b[39m,\u001b[38;5;241m4\u001b[39m)\n",
      "\u001b[1;31mNameError\u001b[0m: name 'history1' is not defined"
     ]
    },
    {
     "data": {
      "image/png": "[encoded data removed]",
      "text/plain": [
       "<Figure size 432x288 with 2 Axes>"
      ]
     },
     "metadata": {
      "needs_background": "light"
     },
     "output_type": "display_data"
    }
   ],
   "source": [
    "fig , ax = plt.subplots(1,2)\n",
    "train_acc = history1.history['accuracy']\n",
    "train_loss = history1.history['loss']\n",
    "fig.set_size_inches(12,4)\n",
    "\n",
    "ax[0].plot(history1.history['accuracy'])\n",
    "ax[0].plot(history1.history['val_accuracy'])\n",
    "ax[0].set_title('Training Accuracy vs Validation Accuracy')\n",
    "ax[0].set_ylabel('Accuracy')\n",
    "ax[0].set_xlabel('Epoch')\n",
    "ax[0].legend(['Train', 'Validation'], loc='upper left')\n",
    "\n",
    "ax[1].plot(history1.history['loss'])\n",
    "ax[1].plot(history1.history['val_loss'])\n",
    "ax[1].set_title('Training Loss vs Validation Loss')\n",
    "ax[1].set_ylabel('Loss')\n",
    "ax[1].set_xlabel('Epoch')\n",
    "ax[1].legend(['Train', 'Validation'], loc='upper left')\n",
    "\n",
    "plt.show()"
   ]
  },
  {
   "cell_type": "code",
   "execution_count": 132,
   "id": "e6ff1880",
   "metadata": {},
   "outputs": [],
   "source": [
    "model.save('first_optimal_model.h5')"
   ]
  },
  {
   "cell_type": "code",
   "execution_count": 8,
   "id": "c26bc90d",
   "metadata": {},
   "outputs": [],
   "source": [
    "from tensorflow.keras import regularizers"
   ]
  },
  {
   "cell_type": "code",
   "execution_count": 9,
   "id": "b4b58bcf",
   "metadata": {},
   "outputs": [
    {
     "name": "stdout",
     "output_type": "stream",
     "text": [
      "Model: \"sequential\"\n",
      "_________________________________________________________________\n",
      " Layer (type)                Output Shape              Param #   \n",
      "=================================================================\n",
      " conv2d (Conv2D)             (None, 46, 46, 32)        320       \n",
      "                                                                 \n",
      " conv2d_1 (Conv2D)           (None, 46, 46, 64)        18496     \n",
      "                                                                 \n",
      " batch_normalization (BatchN  (None, 46, 46, 64)       256       \n",
      " ormalization)                                                   \n",
      "                                                                 \n",
      " max_pooling2d (MaxPooling2D  (None, 23, 23, 64)       0         \n",
      " )                                                               \n",
      "                                                                 \n",
      " dropout (Dropout)           (None, 23, 23, 64)        0         \n",
      "                                                                 \n",
      " conv2d_2 (Conv2D)           (None, 23, 23, 128)       204928    \n",
      "                                                                 \n",
      " batch_normalization_1 (Batc  (None, 23, 23, 128)      512       \n",
      " hNormalization)                                                 \n",
      "                                                                 \n",
      " max_pooling2d_1 (MaxPooling  (None, 11, 11, 128)      0         \n",
      " 2D)                                                             \n",
      "                                                                 \n",
      " dropout_1 (Dropout)         (None, 11, 11, 128)       0         \n",
      "                                                                 \n",
      " conv2d_3 (Conv2D)           (None, 11, 11, 512)       590336    \n",
      "                                                                 \n",
      " batch_normalization_2 (Batc  (None, 11, 11, 512)      2048      \n",
      " hNormalization)                                                 \n",
      "                                                                 \n",
      " max_pooling2d_2 (MaxPooling  (None, 5, 5, 512)        0         \n",
      " 2D)                                                             \n",
      "                                                                 \n",
      " dropout_2 (Dropout)         (None, 5, 5, 512)         0         \n",
      "                                                                 \n",
      " conv2d_4 (Conv2D)           (None, 5, 5, 512)         2359808   \n",
      "                                                                 \n",
      " batch_normalization_3 (Batc  (None, 5, 5, 512)        2048      \n",
      " hNormalization)                                                 \n",
      "                                                                 \n",
      " max_pooling2d_3 (MaxPooling  (None, 2, 2, 512)        0         \n",
      " 2D)                                                             \n",
      "                                                                 \n",
      " dropout_3 (Dropout)         (None, 2, 2, 512)         0         \n",
      "                                                                 \n",
      " flatten (Flatten)           (None, 2048)              0         \n",
      "                                                                 \n",
      " dense (Dense)               (None, 256)               524544    \n",
      "                                                                 \n",
      " batch_normalization_4 (Batc  (None, 256)              1024      \n",
      " hNormalization)                                                 \n",
      "                                                                 \n",
      " dropout_4 (Dropout)         (None, 256)               0         \n",
      "                                                                 \n",
      " dense_1 (Dense)             (None, 512)               131584    \n",
      "                                                                 \n",
      " batch_normalization_5 (Batc  (None, 512)              2048      \n",
      " hNormalization)                                                 \n",
      "                                                                 \n",
      " dropout_5 (Dropout)         (None, 512)               0         \n",
      "                                                                 \n",
      " dense_2 (Dense)             (None, 7)                 3591      \n",
      "                                                                 \n",
      "=================================================================\n",
      "Total params: 3,841,543\n",
      "Trainable params: 3,837,575\n",
      "Non-trainable params: 3,968\n",
      "_________________________________________________________________\n"
     ]
    }
   ],
   "source": [
    "cnn = tf.keras.models.Sequential()\n",
    "\n",
    "cnn.add(tf.keras.layers.Convolution2D(filters=32,kernel_size=3 ,activation='relu', input_shape=[48, 48, 1]))\n",
    "cnn.add(tf.keras.layers.Convolution2D(filters=64,kernel_size=3 ,activation='relu',padding='same'))\n",
    "cnn.add(tf.keras.layers.BatchNormalization())\n",
    "cnn.add(tf.keras.layers.MaxPool2D(pool_size=2, strides=2))\n",
    "cnn.add(tf.keras.layers.Dropout(0.25))\n",
    "\n",
    "cnn.add(tf.keras.layers.Convolution2D(filters=128,kernel_size=5 ,activation='relu',padding='same'))\n",
    "cnn.add(tf.keras.layers.BatchNormalization())\n",
    "cnn.add(tf.keras.layers.MaxPool2D(pool_size=2, strides=2))\n",
    "cnn.add(tf.keras.layers.Dropout(0.25))\n",
    "\n",
    "cnn.add(tf.keras.layers.Convolution2D(filters=512,kernel_size=3, padding='same', activation='relu',kernel_regularizer=regularizers.l2(0.01)))\n",
    "cnn.add(tf.keras.layers.BatchNormalization())\n",
    "cnn.add(tf.keras.layers.MaxPool2D(pool_size=2, strides=2))\n",
    "cnn.add(tf.keras.layers.Dropout(0.25))\n",
    "\n",
    "cnn.add(tf.keras.layers.Convolution2D(filters=512,kernel_size=3, padding='same', activation='relu',kernel_regularizer=regularizers.l2(0.01)))\n",
    "cnn.add(tf.keras.layers.BatchNormalization())\n",
    "cnn.add(tf.keras.layers.MaxPool2D(pool_size=2, strides=2))\n",
    "cnn.add(tf.keras.layers.Dropout(0.25))\n",
    "\n",
    "cnn.add(tf.keras.layers.Flatten()) \n",
    "cnn.add(tf.keras.layers.Dense(256,activation = 'relu'))\n",
    "cnn.add(tf.keras.layers.BatchNormalization())\n",
    "cnn.add(tf.keras.layers.Dropout(0.25))\n",
    "    \n",
    "cnn.add(tf.keras.layers.Dense(512,activation = 'relu'))\n",
    "cnn.add(tf.keras.layers.BatchNormalization())\n",
    "cnn.add(tf.keras.layers.Dropout(0.25))\n",
    "\n",
    "cnn.add(tf.keras.layers.Dense(7, activation='softmax'))\n",
    "cnn.summary()"
   ]
  },
  {
   "cell_type": "code",
   "execution_count": null,
   "id": "0fafa098",
   "metadata": {},
   "outputs": [],
   "source": [
    "pip install pydot"
   ]
  },
  {
   "cell_type": "code",
   "execution_count": 10,
   "id": "772f36e6",
   "metadata": {},
   "outputs": [],
   "source": [
    "class mycallbacks(tf.keras.callbacks.Callback):\n",
    "    def on_epoch_end(self,epochs,logs={}):\n",
    "        if(logs.get('accuracy')>=0.99):\n",
    "            self.model.stop_training=True\n",
    "            print(\"MODEL AS REACHED AMAZING ACCURACY\")"
   ]
  },
  {
   "cell_type": "code",
   "execution_count": null,
   "id": "3708cabb",
   "metadata": {},
   "outputs": [],
   "source": [
    "pip install scipy"
   ]
  },
  {
   "cell_type": "code",
   "execution_count": null,
   "id": "f55cbaf7",
   "metadata": {},
   "outputs": [],
   "source": [
    "import scipy"
   ]
  },
  {
   "cell_type": "code",
   "execution_count": 11,
   "id": "fb3dd97e",
   "metadata": {},
   "outputs": [
    {
     "name": "stdout",
     "output_type": "stream",
     "text": [
      "Epoch 1/100\n",
      "449/449 [==============================] - 1083s 2s/step - loss: 9.2117 - accuracy: 0.1859 - val_loss: 8.2337 - val_accuracy: 0.2531\n",
      "Epoch 2/100\n",
      "449/449 [==============================] - 372s 827ms/step - loss: 7.9365 - accuracy: 0.2117 - val_loss: 7.0733 - val_accuracy: 0.2582\n",
      "Epoch 3/100\n",
      "449/449 [==============================] - 302s 673ms/step - loss: 6.7082 - accuracy: 0.2293 - val_loss: 5.9077 - val_accuracy: 0.2793\n",
      "Epoch 4/100\n",
      "449/449 [==============================] - 318s 709ms/step - loss: 5.5868 - accuracy: 0.2495 - val_loss: 4.9081 - val_accuracy: 0.2891\n",
      "Epoch 5/100\n",
      "449/449 [==============================] - 369s 822ms/step - loss: 4.6227 - accuracy: 0.2797 - val_loss: 4.0311 - val_accuracy: 0.3412\n",
      "Epoch 6/100\n",
      "449/449 [==============================] - 340s 758ms/step - loss: 3.8409 - accuracy: 0.3115 - val_loss: 3.3679 - val_accuracy: 0.3811\n",
      "Epoch 7/100\n",
      "449/449 [==============================] - 304s 675ms/step - loss: 3.2592 - accuracy: 0.3495 - val_loss: 2.8560 - val_accuracy: 0.4360\n",
      "Epoch 8/100\n",
      "449/449 [==============================] - 300s 669ms/step - loss: 2.8389 - accuracy: 0.3745 - val_loss: 2.5782 - val_accuracy: 0.4288\n",
      "Epoch 9/100\n",
      "449/449 [==============================] - 298s 663ms/step - loss: 2.5005 - accuracy: 0.4205 - val_loss: 2.2539 - val_accuracy: 0.4653\n",
      "Epoch 10/100\n",
      "449/449 [==============================] - 300s 669ms/step - loss: 2.2751 - accuracy: 0.4374 - val_loss: 2.2688 - val_accuracy: 0.4711\n",
      "Epoch 11/100\n",
      "449/449 [==============================] - 295s 658ms/step - loss: 2.0996 - accuracy: 0.4638 - val_loss: 1.8934 - val_accuracy: 0.5258\n",
      "Epoch 12/100\n",
      "449/449 [==============================] - 298s 664ms/step - loss: 1.9650 - accuracy: 0.4808 - val_loss: 1.7800 - val_accuracy: 0.5386\n",
      "Epoch 13/100\n",
      "449/449 [==============================] - 297s 661ms/step - loss: 1.8594 - accuracy: 0.4938 - val_loss: 1.6804 - val_accuracy: 0.5473\n",
      "Epoch 14/100\n",
      "449/449 [==============================] - 293s 652ms/step - loss: 1.7738 - accuracy: 0.5107 - val_loss: 1.7185 - val_accuracy: 0.5322\n",
      "Epoch 15/100\n",
      "449/449 [==============================] - 300s 669ms/step - loss: 1.7079 - accuracy: 0.5196 - val_loss: 1.5874 - val_accuracy: 0.5601\n",
      "Epoch 16/100\n",
      "449/449 [==============================] - 300s 668ms/step - loss: 1.6668 - accuracy: 0.5287 - val_loss: 1.4927 - val_accuracy: 0.5854\n",
      "Epoch 17/100\n",
      "449/449 [==============================] - 302s 674ms/step - loss: 1.6294 - accuracy: 0.5363 - val_loss: 1.4852 - val_accuracy: 0.5810\n",
      "Epoch 18/100\n",
      "449/449 [==============================] - 300s 669ms/step - loss: 1.5992 - accuracy: 0.5382 - val_loss: 1.4509 - val_accuracy: 0.5952\n",
      "Epoch 19/100\n",
      "449/449 [==============================] - 299s 666ms/step - loss: 1.5607 - accuracy: 0.5558 - val_loss: 1.4675 - val_accuracy: 0.5838\n",
      "Epoch 20/100\n",
      "449/449 [==============================] - 305s 679ms/step - loss: 1.5506 - accuracy: 0.5545 - val_loss: 1.5818 - val_accuracy: 0.5439\n",
      "Epoch 21/100\n",
      "449/449 [==============================] - 301s 671ms/step - loss: 1.5258 - accuracy: 0.5624 - val_loss: 1.4607 - val_accuracy: 0.5896\n",
      "Epoch 22/100\n",
      "449/449 [==============================] - 295s 658ms/step - loss: 1.5038 - accuracy: 0.5693 - val_loss: 1.4578 - val_accuracy: 0.5841\n",
      "Epoch 23/100\n",
      "449/449 [==============================] - 297s 661ms/step - loss: 1.4889 - accuracy: 0.5711 - val_loss: 1.4395 - val_accuracy: 0.5868\n",
      "Epoch 24/100\n",
      "449/449 [==============================] - 309s 689ms/step - loss: 1.4829 - accuracy: 0.5763 - val_loss: 1.3865 - val_accuracy: 0.6072\n",
      "Epoch 25/100\n",
      "449/449 [==============================] - 300s 669ms/step - loss: 1.4653 - accuracy: 0.5820 - val_loss: 1.3874 - val_accuracy: 0.6078\n",
      "Epoch 26/100\n",
      "449/449 [==============================] - 297s 661ms/step - loss: 1.4607 - accuracy: 0.5843 - val_loss: 1.3984 - val_accuracy: 0.5935\n",
      "Epoch 27/100\n",
      "449/449 [==============================] - 293s 653ms/step - loss: 1.4526 - accuracy: 0.5853 - val_loss: 1.4250 - val_accuracy: 0.5902\n",
      "Epoch 28/100\n",
      "449/449 [==============================] - 296s 660ms/step - loss: 1.4407 - accuracy: 0.5871 - val_loss: 1.3570 - val_accuracy: 0.6186\n",
      "Epoch 29/100\n",
      "449/449 [==============================] - 294s 655ms/step - loss: 1.4336 - accuracy: 0.5932 - val_loss: 1.3987 - val_accuracy: 0.5933\n",
      "Epoch 30/100\n",
      "449/449 [==============================] - 300s 668ms/step - loss: 1.4262 - accuracy: 0.5947 - val_loss: 1.3149 - val_accuracy: 0.6320\n",
      "Epoch 31/100\n",
      "449/449 [==============================] - 299s 666ms/step - loss: 1.4209 - accuracy: 0.5946 - val_loss: 1.3700 - val_accuracy: 0.6041\n",
      "Epoch 32/100\n",
      "449/449 [==============================] - 297s 661ms/step - loss: 1.4116 - accuracy: 0.5998 - val_loss: 1.3888 - val_accuracy: 0.5991\n",
      "Epoch 33/100\n",
      "449/449 [==============================] - 297s 660ms/step - loss: 1.3995 - accuracy: 0.6013 - val_loss: 1.3505 - val_accuracy: 0.6220\n",
      "Epoch 34/100\n",
      "449/449 [==============================] - 305s 678ms/step - loss: 1.4014 - accuracy: 0.6013 - val_loss: 1.3748 - val_accuracy: 0.6130\n",
      "Epoch 35/100\n",
      "449/449 [==============================] - 297s 662ms/step - loss: 1.3962 - accuracy: 0.6051 - val_loss: 1.3687 - val_accuracy: 0.6108\n",
      "Epoch 36/100\n",
      "449/449 [==============================] - 302s 673ms/step - loss: 1.4011 - accuracy: 0.6029 - val_loss: 1.3364 - val_accuracy: 0.6228\n",
      "Epoch 37/100\n",
      "449/449 [==============================] - 299s 667ms/step - loss: 1.3902 - accuracy: 0.6058 - val_loss: 1.3536 - val_accuracy: 0.6181\n",
      "Epoch 38/100\n",
      "449/449 [==============================] - 390s 868ms/step - loss: 1.3855 - accuracy: 0.6094 - val_loss: 1.3424 - val_accuracy: 0.6222\n",
      "Epoch 39/100\n",
      "449/449 [==============================] - 367s 816ms/step - loss: 1.3828 - accuracy: 0.6098 - val_loss: 1.2958 - val_accuracy: 0.6462\n",
      "Epoch 40/100\n",
      "449/449 [==============================] - 301s 670ms/step - loss: 1.3723 - accuracy: 0.6146 - val_loss: 1.3288 - val_accuracy: 0.6281\n",
      "Epoch 41/100\n",
      "449/449 [==============================] - 301s 670ms/step - loss: 1.3792 - accuracy: 0.6138 - val_loss: 1.3183 - val_accuracy: 0.6242\n",
      "Epoch 42/100\n",
      "449/449 [==============================] - 305s 678ms/step - loss: 1.3746 - accuracy: 0.6172 - val_loss: 1.3297 - val_accuracy: 0.6256\n",
      "Epoch 43/100\n",
      "449/449 [==============================] - 299s 666ms/step - loss: 1.3726 - accuracy: 0.6153 - val_loss: 1.3267 - val_accuracy: 0.6287\n",
      "Epoch 44/100\n",
      "449/449 [==============================] - 304s 677ms/step - loss: 1.3720 - accuracy: 0.6203 - val_loss: 1.3294 - val_accuracy: 0.6359\n",
      "Epoch 45/100\n",
      "449/449 [==============================] - 302s 673ms/step - loss: 1.3698 - accuracy: 0.6223 - val_loss: 1.3322 - val_accuracy: 0.6326\n",
      "Epoch 46/100\n",
      "449/449 [==============================] - 299s 665ms/step - loss: 1.3712 - accuracy: 0.6222 - val_loss: 1.3044 - val_accuracy: 0.6507\n",
      "Epoch 47/100\n",
      "449/449 [==============================] - 301s 670ms/step - loss: 1.3718 - accuracy: 0.6181 - val_loss: 1.3283 - val_accuracy: 0.6301\n",
      "Epoch 48/100\n",
      "449/449 [==============================] - 302s 673ms/step - loss: 1.3611 - accuracy: 0.6215 - val_loss: 1.3301 - val_accuracy: 0.6381\n",
      "Epoch 49/100\n",
      "449/449 [==============================] - 302s 671ms/step - loss: 1.3571 - accuracy: 0.6249 - val_loss: 1.3052 - val_accuracy: 0.6487\n",
      "Epoch 50/100\n",
      "449/449 [==============================] - 298s 664ms/step - loss: 1.3583 - accuracy: 0.6246 - val_loss: 1.3092 - val_accuracy: 0.6432\n",
      "Epoch 51/100\n",
      "449/449 [==============================] - 304s 676ms/step - loss: 1.3609 - accuracy: 0.6242 - val_loss: 1.3530 - val_accuracy: 0.6248\n",
      "Epoch 52/100\n",
      "449/449 [==============================] - 299s 666ms/step - loss: 1.3586 - accuracy: 0.6261 - val_loss: 1.2811 - val_accuracy: 0.6473\n",
      "Epoch 53/100\n",
      "449/449 [==============================] - 300s 669ms/step - loss: 1.3501 - accuracy: 0.6276 - val_loss: 1.2750 - val_accuracy: 0.6532\n",
      "Epoch 54/100\n",
      "449/449 [==============================] - 306s 681ms/step - loss: 1.3453 - accuracy: 0.6257 - val_loss: 1.2876 - val_accuracy: 0.6476\n",
      "Epoch 55/100\n",
      "449/449 [==============================] - 307s 684ms/step - loss: 1.3407 - accuracy: 0.6295 - val_loss: 1.3287 - val_accuracy: 0.6404\n",
      "Epoch 56/100\n",
      "449/449 [==============================] - 301s 669ms/step - loss: 1.3477 - accuracy: 0.6279 - val_loss: 1.2938 - val_accuracy: 0.6493\n",
      "Epoch 57/100\n",
      "449/449 [==============================] - 302s 672ms/step - loss: 1.3472 - accuracy: 0.6291 - val_loss: 1.3098 - val_accuracy: 0.6445\n",
      "Epoch 58/100\n",
      "449/449 [==============================] - 295s 657ms/step - loss: 1.3419 - accuracy: 0.6295 - val_loss: 1.2908 - val_accuracy: 0.6493\n",
      "Epoch 59/100\n",
      "449/449 [==============================] - 297s 662ms/step - loss: 1.3383 - accuracy: 0.6291 - val_loss: 1.2908 - val_accuracy: 0.6476\n",
      "Epoch 60/100\n",
      "449/449 [==============================] - 299s 666ms/step - loss: 1.3358 - accuracy: 0.6296 - val_loss: 1.3158 - val_accuracy: 0.6459\n",
      "Epoch 61/100\n",
      "449/449 [==============================] - 294s 655ms/step - loss: 1.3385 - accuracy: 0.6343 - val_loss: 1.2948 - val_accuracy: 0.6468\n",
      "Epoch 62/100\n",
      "449/449 [==============================] - 293s 653ms/step - loss: 1.3350 - accuracy: 0.6344 - val_loss: 1.3102 - val_accuracy: 0.6443\n",
      "Epoch 63/100\n",
      "449/449 [==============================] - 297s 662ms/step - loss: 1.3307 - accuracy: 0.6372 - val_loss: 1.3614 - val_accuracy: 0.6197\n",
      "Epoch 64/100\n",
      "449/449 [==============================] - 287s 639ms/step - loss: 1.3307 - accuracy: 0.6352 - val_loss: 1.2923 - val_accuracy: 0.6565\n",
      "Epoch 65/100\n",
      "449/449 [==============================] - 295s 658ms/step - loss: 1.3247 - accuracy: 0.6386 - val_loss: 1.2777 - val_accuracy: 0.6526\n",
      "Epoch 66/100\n",
      "449/449 [==============================] - 302s 672ms/step - loss: 1.3332 - accuracy: 0.6337 - val_loss: 1.2814 - val_accuracy: 0.6465\n",
      "Epoch 67/100\n",
      "449/449 [==============================] - 299s 666ms/step - loss: 1.3265 - accuracy: 0.6360 - val_loss: 1.2726 - val_accuracy: 0.6524\n",
      "Epoch 68/100\n",
      "449/449 [==============================] - 303s 674ms/step - loss: 1.3267 - accuracy: 0.6386 - val_loss: 1.2993 - val_accuracy: 0.6434\n",
      "Epoch 69/100\n",
      "449/449 [==============================] - 305s 680ms/step - loss: 1.3242 - accuracy: 0.6380 - val_loss: 1.2952 - val_accuracy: 0.6479\n",
      "Epoch 70/100\n",
      "449/449 [==============================] - 297s 660ms/step - loss: 1.3200 - accuracy: 0.6395 - val_loss: 1.3018 - val_accuracy: 0.6493\n",
      "Epoch 71/100\n",
      "449/449 [==============================] - 723s 2s/step - loss: 1.3225 - accuracy: 0.6383 - val_loss: 1.2803 - val_accuracy: 0.6613\n",
      "Epoch 72/100\n",
      "449/449 [==============================] - 296s 659ms/step - loss: 1.3182 - accuracy: 0.6443 - val_loss: 1.3161 - val_accuracy: 0.6473\n",
      "Epoch 73/100\n",
      "449/449 [==============================] - 289s 643ms/step - loss: 1.3248 - accuracy: 0.6428 - val_loss: 1.2969 - val_accuracy: 0.6593\n",
      "Epoch 74/100\n",
      "449/449 [==============================] - 285s 634ms/step - loss: 1.3239 - accuracy: 0.6408 - val_loss: 1.2681 - val_accuracy: 0.6702\n",
      "Epoch 75/100\n",
      "449/449 [==============================] - 294s 654ms/step - loss: 1.3154 - accuracy: 0.6436 - val_loss: 1.2919 - val_accuracy: 0.6565\n",
      "Epoch 76/100\n",
      "449/449 [==============================] - 297s 662ms/step - loss: 1.3141 - accuracy: 0.6432 - val_loss: 1.2827 - val_accuracy: 0.6596\n",
      "Epoch 77/100\n",
      "449/449 [==============================] - 292s 651ms/step - loss: 1.3092 - accuracy: 0.6433 - val_loss: 1.3234 - val_accuracy: 0.6370\n",
      "Epoch 78/100\n",
      "449/449 [==============================] - 292s 651ms/step - loss: 1.3135 - accuracy: 0.6409 - val_loss: 1.3038 - val_accuracy: 0.6504\n",
      "Epoch 79/100\n",
      "449/449 [==============================] - 295s 656ms/step - loss: 1.3034 - accuracy: 0.6446 - val_loss: 1.2824 - val_accuracy: 0.6627\n",
      "Epoch 80/100\n",
      "449/449 [==============================] - 290s 646ms/step - loss: 1.3163 - accuracy: 0.6460 - val_loss: 1.2878 - val_accuracy: 0.6602\n",
      "Epoch 81/100\n",
      "449/449 [==============================] - 290s 646ms/step - loss: 1.3059 - accuracy: 0.6469 - val_loss: 1.2884 - val_accuracy: 0.6543\n",
      "Epoch 82/100\n",
      "449/449 [==============================] - 291s 648ms/step - loss: 1.3075 - accuracy: 0.6454 - val_loss: 1.2638 - val_accuracy: 0.6593\n",
      "Epoch 83/100\n",
      "449/449 [==============================] - 292s 649ms/step - loss: 1.3008 - accuracy: 0.6519 - val_loss: 1.2820 - val_accuracy: 0.6585\n",
      "Epoch 84/100\n",
      "449/449 [==============================] - 292s 650ms/step - loss: 1.3029 - accuracy: 0.6504 - val_loss: 1.3909 - val_accuracy: 0.6119\n",
      "Epoch 85/100\n",
      "449/449 [==============================] - 289s 643ms/step - loss: 1.3102 - accuracy: 0.6476 - val_loss: 1.2796 - val_accuracy: 0.6694\n",
      "Epoch 86/100\n",
      "449/449 [==============================] - 287s 639ms/step - loss: 1.2982 - accuracy: 0.6502 - val_loss: 1.2655 - val_accuracy: 0.6610\n",
      "Epoch 87/100\n",
      "449/449 [==============================] - 288s 641ms/step - loss: 1.3003 - accuracy: 0.6502 - val_loss: 1.2835 - val_accuracy: 0.6574\n",
      "Epoch 88/100\n",
      "449/449 [==============================] - 286s 636ms/step - loss: 1.2995 - accuracy: 0.6488 - val_loss: 1.2824 - val_accuracy: 0.6526\n",
      "Epoch 89/100\n",
      "449/449 [==============================] - 284s 632ms/step - loss: 1.2994 - accuracy: 0.6493 - val_loss: 1.3116 - val_accuracy: 0.6429\n",
      "Epoch 90/100\n",
      "449/449 [==============================] - 283s 631ms/step - loss: 1.2958 - accuracy: 0.6525 - val_loss: 1.3093 - val_accuracy: 0.6471\n",
      "Epoch 91/100\n",
      "449/449 [==============================] - 283s 631ms/step - loss: 1.3007 - accuracy: 0.6463 - val_loss: 1.2932 - val_accuracy: 0.6518\n",
      "Epoch 92/100\n",
      "449/449 [==============================] - 287s 639ms/step - loss: 1.3008 - accuracy: 0.6528 - val_loss: 1.2801 - val_accuracy: 0.6655\n",
      "Epoch 93/100\n",
      "449/449 [==============================] - 286s 637ms/step - loss: 1.2973 - accuracy: 0.6525 - val_loss: 1.2764 - val_accuracy: 0.6593\n",
      "Epoch 94/100\n",
      "449/449 [==============================] - 285s 634ms/step - loss: 1.2911 - accuracy: 0.6553 - val_loss: 1.2790 - val_accuracy: 0.6610\n",
      "Epoch 95/100\n",
      "449/449 [==============================] - 286s 637ms/step - loss: 1.2886 - accuracy: 0.6555 - val_loss: 1.2608 - val_accuracy: 0.6643\n",
      "Epoch 96/100\n",
      "449/449 [==============================] - 300s 668ms/step - loss: 1.2934 - accuracy: 0.6524 - val_loss: 1.2706 - val_accuracy: 0.6641\n",
      "Epoch 97/100\n",
      "449/449 [==============================] - 302s 672ms/step - loss: 1.2924 - accuracy: 0.6516 - val_loss: 1.2785 - val_accuracy: 0.6635\n",
      "Epoch 98/100\n",
      "449/449 [==============================] - 291s 648ms/step - loss: 1.2929 - accuracy: 0.6513 - val_loss: 1.2734 - val_accuracy: 0.6579\n",
      "Epoch 99/100\n",
      "449/449 [==============================] - 292s 651ms/step - loss: 1.2836 - accuracy: 0.6559 - val_loss: 1.2820 - val_accuracy: 0.6521\n",
      "Epoch 100/100\n",
      "449/449 [==============================] - 293s 653ms/step - loss: 1.2856 - accuracy: 0.6540 - val_loss: 1.2826 - val_accuracy: 0.6560\n"
     ]
    }
   ],
   "source": [
    "callbacks=mycallbacks()\n",
    "cnn.compile(optimizer=tf.keras.optimizers.Adam(learning_rate=0.0001), \n",
    "                  loss='categorical_crossentropy', \n",
    "                  metrics=['accuracy'])\n",
    "history=cnn.fit(x=trainDatagen,epochs=100,validation_data=valDatagen,callbacks=[callbacks],shuffle=True)"
   ]
  },
  {
   "cell_type": "code",
   "execution_count": 13,
   "id": "a26036b7",
   "metadata": {},
   "outputs": [
    {
     "data": {
      "image/png": "[encoded data removed]",
      "text/plain": [
       "<Figure size 864x288 with 2 Axes>"
      ]
     },
     "metadata": {
      "needs_background": "light"
     },
     "output_type": "display_data"
    }
   ],
   "source": [
    "fig , ax = plt.subplots(1,2)\n",
    "train_acc = history.history['accuracy']\n",
    "train_loss = history.history['loss']\n",
    "fig.set_size_inches(12,4)\n",
    "\n",
    "ax[0].plot(history.history['accuracy'])\n",
    "ax[0].plot(history.history['val_accuracy'])\n",
    "ax[0].set_title('Training Accuracy vs Validation Accuracy')\n",
    "ax[0].set_ylabel('Accuracy')\n",
    "ax[0].set_xlabel('Epoch')\n",
    "ax[0].legend(['Train', 'Validation'], loc='upper left')\n",
    "\n",
    "ax[1].plot(history.history['loss'])\n",
    "ax[1].plot(history.history['val_loss'])\n",
    "ax[1].set_title('Training Loss vs Validation Loss')\n",
    "ax[1].set_ylabel('Loss')\n",
    "ax[1].set_xlabel('Epoch')\n",
    "ax[1].legend(['Train', 'Validation'], loc='upper left')\n",
    "\n",
    "plt.show()"
   ]
  },
  {
   "cell_type": "code",
   "execution_count": 105,
   "id": "17ba6c4f",
   "metadata": {},
   "outputs": [],
   "source": [
    "cnn.save('model_optimal_alpha.h5')"
   ]
  },
  {
   "cell_type": "code",
   "execution_count": 19,
   "id": "f9d79596",
   "metadata": {
    "scrolled": false
   },
   "outputs": [
    {
     "name": "stdout",
     "output_type": "stream",
     "text": [
      "90/90 [==============================] - 25s 281ms/step - loss: 1.3022 - accuracy: 0.6494\n",
      "validation accuracy = 64.94\n"
     ]
    }
   ],
   "source": [
    "\n",
    "test_loss, test_acc   = cnn.evaluate(testDatagen)\n",
    "print(\"validation accuracy = {:.2f}\".format( test_acc*100))"
   ]
  },
  {
   "cell_type": "code",
   "execution_count": 5,
   "id": "c871d54d",
   "metadata": {},
   "outputs": [],
   "source": [
    "Emotion_Classes = ['Angry', \n",
    "                  'Disgust', \n",
    "                  'Fear', \n",
    "                  'Happy', \n",
    "                  'Neutral', \n",
    "                  'Sad', \n",
    "                  'Surprise']"
   ]
  },
  {
   "cell_type": "code",
   "execution_count": 6,
   "id": "4cdebcde",
   "metadata": {
    "scrolled": true
   },
   "outputs": [
    {
     "name": "stdout",
     "output_type": "stream",
     "text": [
      "Found 7178 images belonging to 7 classes.\n"
     ]
    }
   ],
   "source": [
    "test_preprocessor = ImageDataGenerator(\n",
    "        rescale = 1 / 255.,\n",
    "    )\n",
    "\n",
    "test_generator = test_preprocessor.flow_from_directory(\n",
    "    test_dir,\n",
    "    class_mode=\"categorical\",\n",
    "    target_size=(48,48),\n",
    "    color_mode=\"grayscale\",\n",
    "    shuffle=True,\n",
    "    batch_size=64,\n",
    ")"
   ]
  },
  {
   "cell_type": "code",
   "execution_count": 32,
   "id": "2669e124",
   "metadata": {},
   "outputs": [],
   "source": [
    "batch_size=64"
   ]
  },
  {
   "cell_type": "code",
   "execution_count": 32,
   "id": "29e9d720",
   "metadata": {
    "scrolled": true
   },
   "outputs": [
    {
     "ename": "NameError",
     "evalue": "name 'batch_size' is not defined",
     "output_type": "error",
     "traceback": [
      "\u001b[1;31m---------------------------------------------------------------------------\u001b[0m",
      "\u001b[1;31mNameError\u001b[0m                                 Traceback (most recent call last)",
      "Input \u001b[1;32mIn [32]\u001b[0m, in \u001b[0;36m<cell line: 2>\u001b[1;34m()\u001b[0m\n\u001b[0;32m      1\u001b[0m Random_batch \u001b[38;5;241m=\u001b[39m np\u001b[38;5;241m.\u001b[39mrandom\u001b[38;5;241m.\u001b[39mrandint(\u001b[38;5;241m0\u001b[39m, \u001b[38;5;28mlen\u001b[39m(test_generator) \u001b[38;5;241m-\u001b[39m \u001b[38;5;241m1\u001b[39m)\n\u001b[1;32m----> 2\u001b[0m Random_Img_Index \u001b[38;5;241m=\u001b[39m np\u001b[38;5;241m.\u001b[39mrandom\u001b[38;5;241m.\u001b[39mrandint(\u001b[38;5;241m0\u001b[39m, \u001b[43mbatch_size\u001b[49m \u001b[38;5;241m-\u001b[39m \u001b[38;5;241m1\u001b[39m , \u001b[38;5;241m10\u001b[39m)\n\u001b[0;32m      3\u001b[0m fig, axes \u001b[38;5;241m=\u001b[39m plt\u001b[38;5;241m.\u001b[39msubplots(nrows\u001b[38;5;241m=\u001b[39m\u001b[38;5;241m2\u001b[39m, ncols\u001b[38;5;241m=\u001b[39m\u001b[38;5;241m5\u001b[39m, figsize\u001b[38;5;241m=\u001b[39m(\u001b[38;5;241m25\u001b[39m, \u001b[38;5;241m10\u001b[39m),\n\u001b[0;32m      4\u001b[0m                         subplot_kw\u001b[38;5;241m=\u001b[39m{\u001b[38;5;124m'\u001b[39m\u001b[38;5;124mxticks\u001b[39m\u001b[38;5;124m'\u001b[39m: [], \u001b[38;5;124m'\u001b[39m\u001b[38;5;124myticks\u001b[39m\u001b[38;5;124m'\u001b[39m: []})\n\u001b[0;32m      6\u001b[0m \u001b[38;5;28;01mfor\u001b[39;00m i, ax \u001b[38;5;129;01min\u001b[39;00m \u001b[38;5;28menumerate\u001b[39m(axes\u001b[38;5;241m.\u001b[39mflat):\n",
      "\u001b[1;31mNameError\u001b[0m: name 'batch_size' is not defined"
     ]
    }
   ],
   "source": [
    "Random_batch = np.random.randint(0, len(test_generator) - 1)\n",
    "Random_Img_Index = np.random.randint(0, batch_size - 1 , 10)\n",
    "fig, axes = plt.subplots(nrows=2, ncols=5, figsize=(25, 10),\n",
    "                        subplot_kw={'xticks': [], 'yticks': []})\n",
    "\n",
    "for i, ax in enumerate(axes.flat):\n",
    "    Random_Img = test_generator[Random_batch][0][Random_Img_Index[i]]\n",
    "    Random_Img_Label = np.argmax(test_generator[Random_batch][1][Random_Img_Index[i]])\n",
    "    Model_Prediction = np.argmax(model.predict( tf.expand_dims(Random_Img, axis=0) , verbose=0))\n",
    "    ax.imshow(Random_Img)\n",
    "    if Emotion_Classes[Random_Img_Label] == Emotion_Classes[Model_Prediction]:\n",
    "          color = \"green\"\n",
    "    else:\n",
    "          color = \"red\"\n",
    "    ax.set_title(f\"True: {Emotion_Classes[Random_Img_Label]}\\nPredicted: {Emotion_Classes[Model_Prediction]}\", color=color)\n",
    "plt.show()\n",
    "plt.tight_layout()"
   ]
  },
  {
   "cell_type": "code",
   "execution_count": null,
   "id": "3094b118",
   "metadata": {
    "scrolled": true
   },
   "outputs": [],
   "source": [
    "Predictions =cnn.predict(test_generator)\n",
    "#Choosing highest probalbilty class in every prediction \n",
    "Model_Predictions = np.argmax(Predictions, axis=1)"
   ]
  },
  {
   "cell_type": "code",
   "execution_count": 23,
   "id": "f87df6bc",
   "metadata": {
    "scrolled": true
   },
   "outputs": [
    {
     "name": "stdout",
     "output_type": "stream",
     "text": [
      "Collecting seaborn\n",
      "  Downloading seaborn-0.12.2-py3-none-any.whl (293 kB)\n",
      "     -------------------------------------- 293.3/293.3 kB 1.8 MB/s eta 0:00:00\n",
      "Requirement already satisfied: pandas>=0.25 in c:\\python310\\lib\\site-packages (from seaborn) (1.4.3)\n",
      "Requirement already satisfied: numpy!=1.24.0,>=1.17 in c:\\python310\\lib\\site-packages (from seaborn) (1.23.1)\n",
      "Requirement already satisfied: matplotlib!=3.6.1,>=3.1 in c:\\python310\\lib\\site-packages (from seaborn) (3.5.2)\n",
      "Requirement already satisfied: pillow>=6.2.0 in c:\\python310\\lib\\site-packages (from matplotlib!=3.6.1,>=3.1->seaborn) (9.2.0)\n",
      "Requirement already satisfied: python-dateutil>=2.7 in c:\\python310\\lib\\site-packages (from matplotlib!=3.6.1,>=3.1->seaborn) (2.8.2)\n",
      "Requirement already satisfied: pyparsing>=2.2.1 in c:\\python310\\lib\\site-packages (from matplotlib!=3.6.1,>=3.1->seaborn) (3.0.9)\n",
      "Requirement already satisfied: fonttools>=4.22.0 in c:\\python310\\lib\\site-packages (from matplotlib!=3.6.1,>=3.1->seaborn) (4.34.4)\n",
      "Requirement already satisfied: packaging>=20.0 in c:\\python310\\lib\\site-packages (from matplotlib!=3.6.1,>=3.1->seaborn) (21.3)\n",
      "Requirement already satisfied: kiwisolver>=1.0.1 in c:\\python310\\lib\\site-packages (from matplotlib!=3.6.1,>=3.1->seaborn) (1.4.4)\n",
      "Requirement already satisfied: cycler>=0.10 in c:\\python310\\lib\\site-packages (from matplotlib!=3.6.1,>=3.1->seaborn) (0.11.0)\n",
      "Requirement already satisfied: pytz>=2020.1 in c:\\python310\\lib\\site-packages (from pandas>=0.25->seaborn) (2022.1)\n",
      "Requirement already satisfied: six>=1.5 in c:\\python310\\lib\\site-packages (from python-dateutil>=2.7->matplotlib!=3.6.1,>=3.1->seaborn) (1.16.0)\n",
      "Installing collected packages: seaborn\n",
      "Successfully installed seaborn-0.12.2\n",
      "Note: you may need to restart the kernel to use updated packages.\n"
     ]
    }
   ],
   "source": [
    "pip install seaborn"
   ]
  },
  {
   "cell_type": "code",
   "execution_count": 25,
   "id": "c9edd28f",
   "metadata": {
    "scrolled": true
   },
   "outputs": [
    {
     "name": "stdout",
     "output_type": "stream",
     "text": [
      "Collecting scikit-learn\n",
      "  Downloading scikit_learn-1.2.1-cp310-cp310-win_amd64.whl (8.3 MB)\n",
      "     ---------------------------------------- 8.3/8.3 MB 9.3 MB/s eta 0:00:00\n",
      "Requirement already satisfied: scipy>=1.3.2 in c:\\python310\\lib\\site-packages (from scikit-learn) (1.10.0)\n",
      "Collecting joblib>=1.1.1\n",
      "  Downloading joblib-1.2.0-py3-none-any.whl (297 kB)\n",
      "     -------------------------------------- 298.0/298.0 kB 9.0 MB/s eta 0:00:00\n",
      "Collecting threadpoolctl>=2.0.0\n",
      "  Using cached threadpoolctl-3.1.0-py3-none-any.whl (14 kB)\n",
      "Requirement already satisfied: numpy>=1.17.3 in c:\\python310\\lib\\site-packages (from scikit-learn) (1.23.1)\n",
      "Installing collected packages: threadpoolctl, joblib, scikit-learn\n",
      "Successfully installed joblib-1.2.0 scikit-learn-1.2.1 threadpoolctl-3.1.0\n",
      "Note: you may need to restart the kernel to use updated packages.\n"
     ]
    }
   ],
   "source": [
    "pip install scikit-learn"
   ]
  },
  {
   "cell_type": "code",
   "execution_count": 92,
   "id": "132cebfd",
   "metadata": {
    "scrolled": false
   },
   "outputs": [
    {
     "data": {
      "text/plain": [
       "Text(0.5, 1.0, 'Confusion Matrix')"
      ]
     },
     "execution_count": 92,
     "metadata": {},
     "output_type": "execute_result"
    },
    {
     "data": {
      "image/png": "[encoded data removed]",
      "text/plain": [
       "<Figure size 1080x720 with 2 Axes>"
      ]
     },
     "metadata": {
      "needs_background": "light"
     },
     "output_type": "display_data"
    }
   ],
   "source": [
    "import seaborn as sns \n",
    "from sklearn.metrics import confusion_matrix\n",
    "fig, ax= plt.subplots(figsize=(15,10))\n",
    "cm=confusion_matrix(test_generator.labels, Model_Predictions)\n",
    "sns.heatmap(cm, annot=True, fmt='g', ax=ax)\n",
    "ax.set_xlabel('Predicted labels',fontsize=15, fontweight='bold')\n",
    "ax.set_ylabel('True labels', fontsize=15, fontweight='bold')\n",
    "ax.set_title('Confusion Matrix', fontsize=20, fontweight='bold')"
   ]
  },
  {
   "cell_type": "code",
   "execution_count": 8,
   "id": "1dbbd41b",
   "metadata": {},
   "outputs": [],
   "source": [
    "from tensorflow.keras.utils import to_categorical, plot_model"
   ]
  },
  {
   "cell_type": "code",
   "execution_count": 101,
   "id": "ea8c46b4",
   "metadata": {
    "scrolled": true
   },
   "outputs": [
    {
     "name": "stdout",
     "output_type": "stream",
     "text": [
      "You must install pydot (`pip install pydot`) and install graphviz (see instructions at https://graphviz.gitlab.io/download/) for plot_model to work.\n"
     ]
    }
   ],
   "source": [
    "plot_model(cnn)"
   ]
  },
  {
   "cell_type": "code",
   "execution_count": 7,
   "id": "8e9fa40e",
   "metadata": {
    "scrolled": false
   },
   "outputs": [
    {
     "name": "stdout",
     "output_type": "stream",
     "text": [
      "Requirement already satisfied: pydot in c:\\python310\\lib\\site-packages (1.4.2)\n",
      "Requirement already satisfied: pyparsing>=2.1.4 in c:\\python310\\lib\\site-packages (from pydot) (3.0.9)\n",
      "Note: you may need to restart the kernel to use updated packages.\n"
     ]
    }
   ],
   "source": [
    "pip install pydot"
   ]
  },
  {
   "cell_type": "code",
   "execution_count": 97,
   "id": "4aa7b2f6",
   "metadata": {},
   "outputs": [
    {
     "name": "stdout",
     "output_type": "stream",
     "text": [
      "Note: you may need to restart the kernel to use updated packages.\n"
     ]
    },
    {
     "name": "stderr",
     "output_type": "stream",
     "text": [
      "ERROR: Could not find a version that satisfies the requirement graphiz (from versions: none)\n",
      "ERROR: No matching distribution found for graphiz\n"
     ]
    }
   ],
   "source": [
    "pip install graphiz"
   ]
  },
  {
   "cell_type": "code",
   "execution_count": 100,
   "id": "48228698",
   "metadata": {
    "scrolled": true
   },
   "outputs": [
    {
     "name": "stdout",
     "output_type": "stream",
     "text": [
      "Collecting graphviz\n",
      "  Downloading graphviz-0.20.1-py3-none-any.whl (47 kB)\n",
      "     ---------------------------------------- 47.0/47.0 kB 1.2 MB/s eta 0:00:00\n",
      "Installing collected packages: graphviz\n",
      "Successfully installed graphviz-0.20.1\n",
      "Note: you may need to restart the kernel to use updated packages.\n"
     ]
    }
   ],
   "source": [
    "pip install graphviz"
   ]
  },
  {
   "cell_type": "code",
   "execution_count": 8,
   "id": "33034c0b",
   "metadata": {
    "scrolled": true
   },
   "outputs": [],
   "source": [
    "from tensorflow.keras.models import load_model"
   ]
  },
  {
   "cell_type": "code",
   "execution_count": 9,
   "id": "f371e805",
   "metadata": {},
   "outputs": [],
   "source": [
    "model1 = load_model('model_optimal.h5')"
   ]
  },
  {
   "cell_type": "code",
   "execution_count": 10,
   "id": "96f268ae",
   "metadata": {},
   "outputs": [
    {
     "name": "stdout",
     "output_type": "stream",
     "text": [
      "Model: \"sequential\"\n",
      "_________________________________________________________________\n",
      " Layer (type)                Output Shape              Param #   \n",
      "=================================================================\n",
      " conv2d (Conv2D)             (None, 46, 46, 32)        320       \n",
      "                                                                 \n",
      " conv2d_1 (Conv2D)           (None, 46, 46, 64)        18496     \n",
      "                                                                 \n",
      " batch_normalization (BatchN  (None, 46, 46, 64)       256       \n",
      " ormalization)                                                   \n",
      "                                                                 \n",
      " max_pooling2d (MaxPooling2D  (None, 23, 23, 64)       0         \n",
      " )                                                               \n",
      "                                                                 \n",
      " dropout (Dropout)           (None, 23, 23, 64)        0         \n",
      "                                                                 \n",
      " conv2d_2 (Conv2D)           (None, 23, 23, 128)       204928    \n",
      "                                                                 \n",
      " batch_normalization_1 (Batc  (None, 23, 23, 128)      512       \n",
      " hNormalization)                                                 \n",
      "                                                                 \n",
      " max_pooling2d_1 (MaxPooling  (None, 11, 11, 128)      0         \n",
      " 2D)                                                             \n",
      "                                                                 \n",
      " dropout_1 (Dropout)         (None, 11, 11, 128)       0         \n",
      "                                                                 \n",
      " conv2d_3 (Conv2D)           (None, 11, 11, 512)       590336    \n",
      "                                                                 \n",
      " max_pooling2d_2 (MaxPooling  (None, 5, 5, 512)        0         \n",
      " 2D)                                                             \n",
      "                                                                 \n",
      " dropout_2 (Dropout)         (None, 5, 5, 512)         0         \n",
      "                                                                 \n",
      " conv2d_4 (Conv2D)           (None, 5, 5, 512)         2359808   \n",
      "                                                                 \n",
      " max_pooling2d_3 (MaxPooling  (None, 2, 2, 512)        0         \n",
      " 2D)                                                             \n",
      "                                                                 \n",
      " dropout_3 (Dropout)         (None, 2, 2, 512)         0         \n",
      "                                                                 \n",
      " flatten (Flatten)           (None, 2048)              0         \n",
      "                                                                 \n",
      " dense (Dense)               (None, 256)               524544    \n",
      "                                                                 \n",
      " batch_normalization_2 (Batc  (None, 256)              1024      \n",
      " hNormalization)                                                 \n",
      "                                                                 \n",
      " dropout_4 (Dropout)         (None, 256)               0         \n",
      "                                                                 \n",
      " dense_1 (Dense)             (None, 512)               131584    \n",
      "                                                                 \n",
      " batch_normalization_3 (Batc  (None, 512)              2048      \n",
      " hNormalization)                                                 \n",
      "                                                                 \n",
      " dropout_5 (Dropout)         (None, 512)               0         \n",
      "                                                                 \n",
      " dense_2 (Dense)             (None, 7)                 3591      \n",
      "                                                                 \n",
      "=================================================================\n",
      "Total params: 3,837,447\n",
      "Trainable params: 3,835,527\n",
      "Non-trainable params: 1,920\n",
      "_________________________________________________________________\n"
     ]
    }
   ],
   "source": [
    "model1.summary()"
   ]
  },
  {
   "cell_type": "code",
   "execution_count": 36,
   "id": "e3c4644e",
   "metadata": {},
   "outputs": [
    {
     "name": "stdout",
     "output_type": "stream",
     "text": [
      "23/23 [==============================] - 3s 126ms/step - loss: 1.1996 - accuracy: 0.6760\n",
      "test accuracy = 67.60\n"
     ]
    }
   ],
   "source": [
    "test_loss, test_acc   = model1.evaluate(valDatagen)\n",
    "print(\"test accuracy = {:.2f}\".format(test_acc*100))"
   ]
  },
  {
   "cell_type": "code",
   "execution_count": 43,
   "id": "bca8531d",
   "metadata": {},
   "outputs": [
    {
     "name": "stdout",
     "output_type": "stream",
     "text": [
      "359/359 [==============================] - 43s 120ms/step\n",
      "23/23 [==============================] - 3s 120ms/step\n"
     ]
    },
    {
     "ename": "AxisError",
     "evalue": "axis 1 is out of bounds for array of dimension 1",
     "output_type": "error",
     "traceback": [
      "\u001b[1;31m---------------------------------------------------------------------------\u001b[0m",
      "\u001b[1;31mAxisError\u001b[0m                                 Traceback (most recent call last)",
      "Input \u001b[1;32mIn [43]\u001b[0m, in \u001b[0;36m<cell line: 11>\u001b[1;34m()\u001b[0m\n\u001b[0;32m      9\u001b[0m \u001b[38;5;66;03m# Train a Random Forest Classifier\u001b[39;00m\n\u001b[0;32m     10\u001b[0m rf \u001b[38;5;241m=\u001b[39m RandomForestClassifier(n_estimators\u001b[38;5;241m=\u001b[39m\u001b[38;5;241m100\u001b[39m,random_state\u001b[38;5;241m=\u001b[39m\u001b[38;5;241m42\u001b[39m)\n\u001b[1;32m---> 11\u001b[0m rf\u001b[38;5;241m.\u001b[39mfit(train_features_flat, \u001b[43mnp\u001b[49m\u001b[38;5;241;43m.\u001b[39;49m\u001b[43margmax\u001b[49m\u001b[43m(\u001b[49m\u001b[43mtrainDatagen\u001b[49m\u001b[38;5;241;43m.\u001b[39;49m\u001b[43mlabels\u001b[49m\u001b[43m,\u001b[49m\u001b[43maxis\u001b[49m\u001b[38;5;241;43m=\u001b[39;49m\u001b[38;5;241;43m1\u001b[39;49m\u001b[43m)\u001b[49m)\n\u001b[0;32m     13\u001b[0m \u001b[38;5;66;03m# Evaluate the Random Forest Classifier\u001b[39;00m\n\u001b[0;32m     14\u001b[0m train_acc_rf \u001b[38;5;241m=\u001b[39m rf\u001b[38;5;241m.\u001b[39mscore(train_features, trainDatagen\u001b[38;5;241m.\u001b[39mlabels)\n",
      "File \u001b[1;32m<__array_function__ internals>:180\u001b[0m, in \u001b[0;36margmax\u001b[1;34m(*args, **kwargs)\u001b[0m\n",
      "File \u001b[1;32mC:\\Python310\\lib\\site-packages\\numpy\\core\\fromnumeric.py:1216\u001b[0m, in \u001b[0;36margmax\u001b[1;34m(a, axis, out, keepdims)\u001b[0m\n\u001b[0;32m   1129\u001b[0m \u001b[38;5;124;03m\"\"\"\u001b[39;00m\n\u001b[0;32m   1130\u001b[0m \u001b[38;5;124;03mReturns the indices of the maximum values along an axis.\u001b[39;00m\n\u001b[0;32m   1131\u001b[0m \n\u001b[1;32m   (...)\u001b[0m\n\u001b[0;32m   1213\u001b[0m \u001b[38;5;124;03m(2, 1, 4)\u001b[39;00m\n\u001b[0;32m   1214\u001b[0m \u001b[38;5;124;03m\"\"\"\u001b[39;00m\n\u001b[0;32m   1215\u001b[0m kwds \u001b[38;5;241m=\u001b[39m {\u001b[38;5;124m'\u001b[39m\u001b[38;5;124mkeepdims\u001b[39m\u001b[38;5;124m'\u001b[39m: keepdims} \u001b[38;5;28;01mif\u001b[39;00m keepdims \u001b[38;5;129;01mis\u001b[39;00m \u001b[38;5;129;01mnot\u001b[39;00m np\u001b[38;5;241m.\u001b[39m_NoValue \u001b[38;5;28;01melse\u001b[39;00m {}\n\u001b[1;32m-> 1216\u001b[0m \u001b[38;5;28;01mreturn\u001b[39;00m _wrapfunc(a, \u001b[38;5;124m'\u001b[39m\u001b[38;5;124margmax\u001b[39m\u001b[38;5;124m'\u001b[39m, axis\u001b[38;5;241m=\u001b[39maxis, out\u001b[38;5;241m=\u001b[39mout, \u001b[38;5;241m*\u001b[39m\u001b[38;5;241m*\u001b[39mkwds)\n",
      "File \u001b[1;32mC:\\Python310\\lib\\site-packages\\numpy\\core\\fromnumeric.py:57\u001b[0m, in \u001b[0;36m_wrapfunc\u001b[1;34m(obj, method, *args, **kwds)\u001b[0m\n\u001b[0;32m     54\u001b[0m     \u001b[38;5;28;01mreturn\u001b[39;00m _wrapit(obj, method, \u001b[38;5;241m*\u001b[39margs, \u001b[38;5;241m*\u001b[39m\u001b[38;5;241m*\u001b[39mkwds)\n\u001b[0;32m     56\u001b[0m \u001b[38;5;28;01mtry\u001b[39;00m:\n\u001b[1;32m---> 57\u001b[0m     \u001b[38;5;28;01mreturn\u001b[39;00m bound(\u001b[38;5;241m*\u001b[39margs, \u001b[38;5;241m*\u001b[39m\u001b[38;5;241m*\u001b[39mkwds)\n\u001b[0;32m     58\u001b[0m \u001b[38;5;28;01mexcept\u001b[39;00m \u001b[38;5;167;01mTypeError\u001b[39;00m:\n\u001b[0;32m     59\u001b[0m     \u001b[38;5;66;03m# A TypeError occurs if the object does have such a method in its\u001b[39;00m\n\u001b[0;32m     60\u001b[0m     \u001b[38;5;66;03m# class, but its signature is not identical to that of NumPy's. This\u001b[39;00m\n\u001b[1;32m   (...)\u001b[0m\n\u001b[0;32m     64\u001b[0m     \u001b[38;5;66;03m# Call _wrapit from within the except clause to ensure a potential\u001b[39;00m\n\u001b[0;32m     65\u001b[0m     \u001b[38;5;66;03m# exception has a traceback chain.\u001b[39;00m\n\u001b[0;32m     66\u001b[0m     \u001b[38;5;28;01mreturn\u001b[39;00m _wrapit(obj, method, \u001b[38;5;241m*\u001b[39margs, \u001b[38;5;241m*\u001b[39m\u001b[38;5;241m*\u001b[39mkwds)\n",
      "\u001b[1;31mAxisError\u001b[0m: axis 1 is out of bounds for array of dimension 1"
     ]
    }
   ],
   "source": [
    "# Extract bottleneck features\n",
    "train_features = model1.predict(trainDatagen)\n",
    "test_features = model1.predict(valDatagen)\n",
    "\n",
    "# Flatten the features\n",
    "train_features_flat = train_features.reshape(train_features.shape[0], -1)\n",
    "test_features_flat = test_features.reshape(test_features.shape[0], -1)\n",
    "\n",
    "# Train a Random Forest Classifier\n",
    "rf = RandomForestClassifier(n_estimators=100,random_state=42)\n",
    "rf.fit(train_features_flat, np.argmax(trainDatagen.labels,axis=1))\n",
    "\n",
    "# Evaluate the Random Forest Classifier\n",
    "train_acc_rf = rf.score(train_features, trainDatagen.labels)\n",
    "test_acc_rf = rf.score(test_features, valDatagen.labels)\n",
    "\n",
    "print(\"Random Forest Classifier - Train Accuracy: {:.2f}%\".format(train_acc_rf * 100))\n",
    "print(\"Random Forest Classifier - Test Accuracy: {:.2f}%\".format(test_acc_rf * 100))\n"
   ]
  },
  {
   "cell_type": "code",
   "execution_count": 47,
   "id": "85673e55",
   "metadata": {},
   "outputs": [
    {
     "data": {
      "image/png": "[encoded data removed]",
      "text/plain": [
       "<Figure size 1800x720 with 10 Axes>"
      ]
     },
     "metadata": {},
     "output_type": "display_data"
    },
    {
     "data": {
      "text/plain": [
       "<Figure size 432x288 with 0 Axes>"
      ]
     },
     "metadata": {},
     "output_type": "display_data"
    }
   ],
   "source": [
    "Random_batch = np.random.randint(0, len(test_generator) - 1)\n",
    "Random_Img_Index = np.random.randint(0, batch_size - 1 , 10)\n",
    "fig, axes = plt.subplots(nrows=2, ncols=5, figsize=(25, 10),\n",
    "                        subplot_kw={'xticks': [], 'yticks': []})\n",
    "\n",
    "for i, ax in enumerate(axes.flat):\n",
    "    Random_Img = test_generator[Random_batch][0][Random_Img_Index[i]]\n",
    "    Random_Img_Label = np.argmax(test_generator[Random_batch][1][Random_Img_Index[i]])\n",
    "    Model_Prediction = np.argmax(model1.predict( tf.expand_dims(Random_Img, axis=0) , verbose=0))\n",
    "    ax.imshow(Random_Img)\n",
    "    if Emotion_Classes[Random_Img_Label] == Emotion_Classes[Model_Prediction]:\n",
    "          color = \"green\"\n",
    "    else:\n",
    "          color = \"red\"\n",
    "    ax.set_title(f\"True: {Emotion_Classes[Random_Img_Label]}\\nPredicted: {Emotion_Classes[Model_Prediction]}\", color=color)\n",
    "plt.show()\n",
    "plt.tight_layout()"
   ]
  },
  {
   "cell_type": "code",
   "execution_count": 34,
   "id": "0950c196",
   "metadata": {
    "scrolled": true
   },
   "outputs": [
    {
     "name": "stdout",
     "output_type": "stream",
     "text": [
      "  3/359 [..............................] - ETA: 14:39 - loss: 1.1080 - accuracy: 0.6979"
     ]
    },
    {
     "ename": "KeyboardInterrupt",
     "evalue": "",
     "output_type": "error",
     "traceback": [
      "\u001b[1;31m---------------------------------------------------------------------------\u001b[0m",
      "\u001b[1;31mKeyboardInterrupt\u001b[0m                         Traceback (most recent call last)",
      "Input \u001b[1;32mIn [34]\u001b[0m, in \u001b[0;36m<cell line: 1>\u001b[1;34m()\u001b[0m\n\u001b[1;32m----> 1\u001b[0m train_loss, train_acc \u001b[38;5;241m=\u001b[39m \u001b[43mmodel1\u001b[49m\u001b[38;5;241;43m.\u001b[39;49m\u001b[43mevaluate\u001b[49m\u001b[43m(\u001b[49m\u001b[43mtrainDatagen\u001b[49m\u001b[43m)\u001b[49m\n\u001b[0;32m      2\u001b[0m test_loss, test_acc   \u001b[38;5;241m=\u001b[39m model1\u001b[38;5;241m.\u001b[39mevaluate(valDatagen)\n\u001b[0;32m      3\u001b[0m \u001b[38;5;28mprint\u001b[39m(\u001b[38;5;124m\"\u001b[39m\u001b[38;5;124mfinal train accuracy = \u001b[39m\u001b[38;5;132;01m{:.2f}\u001b[39;00m\u001b[38;5;124m , validation accuracy = \u001b[39m\u001b[38;5;132;01m{:.2f}\u001b[39;00m\u001b[38;5;124m\"\u001b[39m\u001b[38;5;241m.\u001b[39mformat(train_acc\u001b[38;5;241m*\u001b[39m\u001b[38;5;241m100\u001b[39m, test_acc\u001b[38;5;241m*\u001b[39m\u001b[38;5;241m100\u001b[39m))\n",
      "File \u001b[1;32mC:\\Python310\\lib\\site-packages\\keras\\utils\\traceback_utils.py:65\u001b[0m, in \u001b[0;36mfilter_traceback.<locals>.error_handler\u001b[1;34m(*args, **kwargs)\u001b[0m\n\u001b[0;32m     63\u001b[0m filtered_tb \u001b[38;5;241m=\u001b[39m \u001b[38;5;28;01mNone\u001b[39;00m\n\u001b[0;32m     64\u001b[0m \u001b[38;5;28;01mtry\u001b[39;00m:\n\u001b[1;32m---> 65\u001b[0m     \u001b[38;5;28;01mreturn\u001b[39;00m fn(\u001b[38;5;241m*\u001b[39margs, \u001b[38;5;241m*\u001b[39m\u001b[38;5;241m*\u001b[39mkwargs)\n\u001b[0;32m     66\u001b[0m \u001b[38;5;28;01mexcept\u001b[39;00m \u001b[38;5;167;01mException\u001b[39;00m \u001b[38;5;28;01mas\u001b[39;00m e:\n\u001b[0;32m     67\u001b[0m     filtered_tb \u001b[38;5;241m=\u001b[39m _process_traceback_frames(e\u001b[38;5;241m.\u001b[39m__traceback__)\n",
      "File \u001b[1;32mC:\\Python310\\lib\\site-packages\\keras\\engine\\training.py:2040\u001b[0m, in \u001b[0;36mModel.evaluate\u001b[1;34m(self, x, y, batch_size, verbose, sample_weight, steps, callbacks, max_queue_size, workers, use_multiprocessing, return_dict, **kwargs)\u001b[0m\n\u001b[0;32m   2036\u001b[0m \u001b[38;5;28;01mwith\u001b[39;00m tf\u001b[38;5;241m.\u001b[39mprofiler\u001b[38;5;241m.\u001b[39mexperimental\u001b[38;5;241m.\u001b[39mTrace(\n\u001b[0;32m   2037\u001b[0m     \u001b[38;5;124m\"\u001b[39m\u001b[38;5;124mtest\u001b[39m\u001b[38;5;124m\"\u001b[39m, step_num\u001b[38;5;241m=\u001b[39mstep, _r\u001b[38;5;241m=\u001b[39m\u001b[38;5;241m1\u001b[39m\n\u001b[0;32m   2038\u001b[0m ):\n\u001b[0;32m   2039\u001b[0m     callbacks\u001b[38;5;241m.\u001b[39mon_test_batch_begin(step)\n\u001b[1;32m-> 2040\u001b[0m     tmp_logs \u001b[38;5;241m=\u001b[39m \u001b[38;5;28;43mself\u001b[39;49m\u001b[38;5;241;43m.\u001b[39;49m\u001b[43mtest_function\u001b[49m\u001b[43m(\u001b[49m\u001b[43miterator\u001b[49m\u001b[43m)\u001b[49m\n\u001b[0;32m   2041\u001b[0m     \u001b[38;5;28;01mif\u001b[39;00m data_handler\u001b[38;5;241m.\u001b[39mshould_sync:\n\u001b[0;32m   2042\u001b[0m         context\u001b[38;5;241m.\u001b[39masync_wait()\n",
      "File \u001b[1;32mC:\\Python310\\lib\\site-packages\\tensorflow\\python\\util\\traceback_utils.py:150\u001b[0m, in \u001b[0;36mfilter_traceback.<locals>.error_handler\u001b[1;34m(*args, **kwargs)\u001b[0m\n\u001b[0;32m    148\u001b[0m filtered_tb \u001b[38;5;241m=\u001b[39m \u001b[38;5;28;01mNone\u001b[39;00m\n\u001b[0;32m    149\u001b[0m \u001b[38;5;28;01mtry\u001b[39;00m:\n\u001b[1;32m--> 150\u001b[0m   \u001b[38;5;28;01mreturn\u001b[39;00m fn(\u001b[38;5;241m*\u001b[39margs, \u001b[38;5;241m*\u001b[39m\u001b[38;5;241m*\u001b[39mkwargs)\n\u001b[0;32m    151\u001b[0m \u001b[38;5;28;01mexcept\u001b[39;00m \u001b[38;5;167;01mException\u001b[39;00m \u001b[38;5;28;01mas\u001b[39;00m e:\n\u001b[0;32m    152\u001b[0m   filtered_tb \u001b[38;5;241m=\u001b[39m _process_traceback_frames(e\u001b[38;5;241m.\u001b[39m__traceback__)\n",
      "File \u001b[1;32mC:\\Python310\\lib\\site-packages\\tensorflow\\python\\eager\\polymorphic_function\\polymorphic_function.py:880\u001b[0m, in \u001b[0;36mFunction.__call__\u001b[1;34m(self, *args, **kwds)\u001b[0m\n\u001b[0;32m    877\u001b[0m compiler \u001b[38;5;241m=\u001b[39m \u001b[38;5;124m\"\u001b[39m\u001b[38;5;124mxla\u001b[39m\u001b[38;5;124m\"\u001b[39m \u001b[38;5;28;01mif\u001b[39;00m \u001b[38;5;28mself\u001b[39m\u001b[38;5;241m.\u001b[39m_jit_compile \u001b[38;5;28;01melse\u001b[39;00m \u001b[38;5;124m\"\u001b[39m\u001b[38;5;124mnonXla\u001b[39m\u001b[38;5;124m\"\u001b[39m\n\u001b[0;32m    879\u001b[0m \u001b[38;5;28;01mwith\u001b[39;00m OptionalXlaContext(\u001b[38;5;28mself\u001b[39m\u001b[38;5;241m.\u001b[39m_jit_compile):\n\u001b[1;32m--> 880\u001b[0m   result \u001b[38;5;241m=\u001b[39m \u001b[38;5;28mself\u001b[39m\u001b[38;5;241m.\u001b[39m_call(\u001b[38;5;241m*\u001b[39margs, \u001b[38;5;241m*\u001b[39m\u001b[38;5;241m*\u001b[39mkwds)\n\u001b[0;32m    882\u001b[0m new_tracing_count \u001b[38;5;241m=\u001b[39m \u001b[38;5;28mself\u001b[39m\u001b[38;5;241m.\u001b[39mexperimental_get_tracing_count()\n\u001b[0;32m    883\u001b[0m without_tracing \u001b[38;5;241m=\u001b[39m (tracing_count \u001b[38;5;241m==\u001b[39m new_tracing_count)\n",
      "File \u001b[1;32mC:\\Python310\\lib\\site-packages\\tensorflow\\python\\eager\\polymorphic_function\\polymorphic_function.py:919\u001b[0m, in \u001b[0;36mFunction._call\u001b[1;34m(self, *args, **kwds)\u001b[0m\n\u001b[0;32m    916\u001b[0m \u001b[38;5;28mself\u001b[39m\u001b[38;5;241m.\u001b[39m_lock\u001b[38;5;241m.\u001b[39mrelease()\n\u001b[0;32m    917\u001b[0m \u001b[38;5;66;03m# In this case we have not created variables on the first call. So we can\u001b[39;00m\n\u001b[0;32m    918\u001b[0m \u001b[38;5;66;03m# run the first trace but we should fail if variables are created.\u001b[39;00m\n\u001b[1;32m--> 919\u001b[0m results \u001b[38;5;241m=\u001b[39m \u001b[38;5;28mself\u001b[39m\u001b[38;5;241m.\u001b[39m_variable_creation_fn(\u001b[38;5;241m*\u001b[39margs, \u001b[38;5;241m*\u001b[39m\u001b[38;5;241m*\u001b[39mkwds)\n\u001b[0;32m    920\u001b[0m \u001b[38;5;28;01mif\u001b[39;00m \u001b[38;5;28mself\u001b[39m\u001b[38;5;241m.\u001b[39m_created_variables \u001b[38;5;129;01mand\u001b[39;00m \u001b[38;5;129;01mnot\u001b[39;00m ALLOW_DYNAMIC_VARIABLE_CREATION:\n\u001b[0;32m    921\u001b[0m   \u001b[38;5;28;01mraise\u001b[39;00m \u001b[38;5;167;01mValueError\u001b[39;00m(\u001b[38;5;124m\"\u001b[39m\u001b[38;5;124mCreating variables on a non-first call to a function\u001b[39m\u001b[38;5;124m\"\u001b[39m\n\u001b[0;32m    922\u001b[0m                    \u001b[38;5;124m\"\u001b[39m\u001b[38;5;124m decorated with tf.function.\u001b[39m\u001b[38;5;124m\"\u001b[39m)\n",
      "File \u001b[1;32mC:\\Python310\\lib\\site-packages\\tensorflow\\python\\eager\\polymorphic_function\\tracing_compiler.py:134\u001b[0m, in \u001b[0;36mTracingCompiler.__call__\u001b[1;34m(self, *args, **kwargs)\u001b[0m\n\u001b[0;32m    131\u001b[0m \u001b[38;5;28;01mwith\u001b[39;00m \u001b[38;5;28mself\u001b[39m\u001b[38;5;241m.\u001b[39m_lock:\n\u001b[0;32m    132\u001b[0m   (concrete_function,\n\u001b[0;32m    133\u001b[0m    filtered_flat_args) \u001b[38;5;241m=\u001b[39m \u001b[38;5;28mself\u001b[39m\u001b[38;5;241m.\u001b[39m_maybe_define_function(args, kwargs)\n\u001b[1;32m--> 134\u001b[0m \u001b[38;5;28;01mreturn\u001b[39;00m \u001b[43mconcrete_function\u001b[49m\u001b[38;5;241;43m.\u001b[39;49m\u001b[43m_call_flat\u001b[49m\u001b[43m(\u001b[49m\n\u001b[0;32m    135\u001b[0m \u001b[43m    \u001b[49m\u001b[43mfiltered_flat_args\u001b[49m\u001b[43m,\u001b[49m\u001b[43m \u001b[49m\u001b[43mcaptured_inputs\u001b[49m\u001b[38;5;241;43m=\u001b[39;49m\u001b[43mconcrete_function\u001b[49m\u001b[38;5;241;43m.\u001b[39;49m\u001b[43mcaptured_inputs\u001b[49m\u001b[43m)\u001b[49m\n",
      "File \u001b[1;32mC:\\Python310\\lib\\site-packages\\tensorflow\\python\\eager\\polymorphic_function\\monomorphic_function.py:1745\u001b[0m, in \u001b[0;36mConcreteFunction._call_flat\u001b[1;34m(self, args, captured_inputs, cancellation_manager)\u001b[0m\n\u001b[0;32m   1741\u001b[0m possible_gradient_type \u001b[38;5;241m=\u001b[39m gradients_util\u001b[38;5;241m.\u001b[39mPossibleTapeGradientTypes(args)\n\u001b[0;32m   1742\u001b[0m \u001b[38;5;28;01mif\u001b[39;00m (possible_gradient_type \u001b[38;5;241m==\u001b[39m gradients_util\u001b[38;5;241m.\u001b[39mPOSSIBLE_GRADIENT_TYPES_NONE\n\u001b[0;32m   1743\u001b[0m     \u001b[38;5;129;01mand\u001b[39;00m executing_eagerly):\n\u001b[0;32m   1744\u001b[0m   \u001b[38;5;66;03m# No tape is watching; skip to running the function.\u001b[39;00m\n\u001b[1;32m-> 1745\u001b[0m   \u001b[38;5;28;01mreturn\u001b[39;00m \u001b[38;5;28mself\u001b[39m\u001b[38;5;241m.\u001b[39m_build_call_outputs(\u001b[38;5;28;43mself\u001b[39;49m\u001b[38;5;241;43m.\u001b[39;49m\u001b[43m_inference_function\u001b[49m\u001b[38;5;241;43m.\u001b[39;49m\u001b[43mcall\u001b[49m\u001b[43m(\u001b[49m\n\u001b[0;32m   1746\u001b[0m \u001b[43m      \u001b[49m\u001b[43mctx\u001b[49m\u001b[43m,\u001b[49m\u001b[43m \u001b[49m\u001b[43margs\u001b[49m\u001b[43m,\u001b[49m\u001b[43m \u001b[49m\u001b[43mcancellation_manager\u001b[49m\u001b[38;5;241;43m=\u001b[39;49m\u001b[43mcancellation_manager\u001b[49m\u001b[43m)\u001b[49m)\n\u001b[0;32m   1747\u001b[0m forward_backward \u001b[38;5;241m=\u001b[39m \u001b[38;5;28mself\u001b[39m\u001b[38;5;241m.\u001b[39m_select_forward_and_backward_functions(\n\u001b[0;32m   1748\u001b[0m     args,\n\u001b[0;32m   1749\u001b[0m     possible_gradient_type,\n\u001b[0;32m   1750\u001b[0m     executing_eagerly)\n\u001b[0;32m   1751\u001b[0m forward_function, args_with_tangents \u001b[38;5;241m=\u001b[39m forward_backward\u001b[38;5;241m.\u001b[39mforward()\n",
      "File \u001b[1;32mC:\\Python310\\lib\\site-packages\\tensorflow\\python\\eager\\polymorphic_function\\monomorphic_function.py:378\u001b[0m, in \u001b[0;36m_EagerDefinedFunction.call\u001b[1;34m(self, ctx, args, cancellation_manager)\u001b[0m\n\u001b[0;32m    376\u001b[0m \u001b[38;5;28;01mwith\u001b[39;00m _InterpolateFunctionError(\u001b[38;5;28mself\u001b[39m):\n\u001b[0;32m    377\u001b[0m   \u001b[38;5;28;01mif\u001b[39;00m cancellation_manager \u001b[38;5;129;01mis\u001b[39;00m \u001b[38;5;28;01mNone\u001b[39;00m:\n\u001b[1;32m--> 378\u001b[0m     outputs \u001b[38;5;241m=\u001b[39m \u001b[43mexecute\u001b[49m\u001b[38;5;241;43m.\u001b[39;49m\u001b[43mexecute\u001b[49m\u001b[43m(\u001b[49m\n\u001b[0;32m    379\u001b[0m \u001b[43m        \u001b[49m\u001b[38;5;28;43mstr\u001b[39;49m\u001b[43m(\u001b[49m\u001b[38;5;28;43mself\u001b[39;49m\u001b[38;5;241;43m.\u001b[39;49m\u001b[43msignature\u001b[49m\u001b[38;5;241;43m.\u001b[39;49m\u001b[43mname\u001b[49m\u001b[43m)\u001b[49m\u001b[43m,\u001b[49m\n\u001b[0;32m    380\u001b[0m \u001b[43m        \u001b[49m\u001b[43mnum_outputs\u001b[49m\u001b[38;5;241;43m=\u001b[39;49m\u001b[38;5;28;43mself\u001b[39;49m\u001b[38;5;241;43m.\u001b[39;49m\u001b[43m_num_outputs\u001b[49m\u001b[43m,\u001b[49m\n\u001b[0;32m    381\u001b[0m \u001b[43m        \u001b[49m\u001b[43minputs\u001b[49m\u001b[38;5;241;43m=\u001b[39;49m\u001b[43margs\u001b[49m\u001b[43m,\u001b[49m\n\u001b[0;32m    382\u001b[0m \u001b[43m        \u001b[49m\u001b[43mattrs\u001b[49m\u001b[38;5;241;43m=\u001b[39;49m\u001b[43mattrs\u001b[49m\u001b[43m,\u001b[49m\n\u001b[0;32m    383\u001b[0m \u001b[43m        \u001b[49m\u001b[43mctx\u001b[49m\u001b[38;5;241;43m=\u001b[39;49m\u001b[43mctx\u001b[49m\u001b[43m)\u001b[49m\n\u001b[0;32m    384\u001b[0m   \u001b[38;5;28;01melse\u001b[39;00m:\n\u001b[0;32m    385\u001b[0m     outputs \u001b[38;5;241m=\u001b[39m execute\u001b[38;5;241m.\u001b[39mexecute_with_cancellation(\n\u001b[0;32m    386\u001b[0m         \u001b[38;5;28mstr\u001b[39m(\u001b[38;5;28mself\u001b[39m\u001b[38;5;241m.\u001b[39msignature\u001b[38;5;241m.\u001b[39mname),\n\u001b[0;32m    387\u001b[0m         num_outputs\u001b[38;5;241m=\u001b[39m\u001b[38;5;28mself\u001b[39m\u001b[38;5;241m.\u001b[39m_num_outputs,\n\u001b[1;32m   (...)\u001b[0m\n\u001b[0;32m    390\u001b[0m         ctx\u001b[38;5;241m=\u001b[39mctx,\n\u001b[0;32m    391\u001b[0m         cancellation_manager\u001b[38;5;241m=\u001b[39mcancellation_manager)\n",
      "File \u001b[1;32mC:\\Python310\\lib\\site-packages\\tensorflow\\python\\eager\\execute.py:52\u001b[0m, in \u001b[0;36mquick_execute\u001b[1;34m(op_name, num_outputs, inputs, attrs, ctx, name)\u001b[0m\n\u001b[0;32m     50\u001b[0m \u001b[38;5;28;01mtry\u001b[39;00m:\n\u001b[0;32m     51\u001b[0m   ctx\u001b[38;5;241m.\u001b[39mensure_initialized()\n\u001b[1;32m---> 52\u001b[0m   tensors \u001b[38;5;241m=\u001b[39m \u001b[43mpywrap_tfe\u001b[49m\u001b[38;5;241;43m.\u001b[39;49m\u001b[43mTFE_Py_Execute\u001b[49m\u001b[43m(\u001b[49m\u001b[43mctx\u001b[49m\u001b[38;5;241;43m.\u001b[39;49m\u001b[43m_handle\u001b[49m\u001b[43m,\u001b[49m\u001b[43m \u001b[49m\u001b[43mdevice_name\u001b[49m\u001b[43m,\u001b[49m\u001b[43m \u001b[49m\u001b[43mop_name\u001b[49m\u001b[43m,\u001b[49m\n\u001b[0;32m     53\u001b[0m \u001b[43m                                      \u001b[49m\u001b[43minputs\u001b[49m\u001b[43m,\u001b[49m\u001b[43m \u001b[49m\u001b[43mattrs\u001b[49m\u001b[43m,\u001b[49m\u001b[43m \u001b[49m\u001b[43mnum_outputs\u001b[49m\u001b[43m)\u001b[49m\n\u001b[0;32m     54\u001b[0m \u001b[38;5;28;01mexcept\u001b[39;00m core\u001b[38;5;241m.\u001b[39m_NotOkStatusException \u001b[38;5;28;01mas\u001b[39;00m e:\n\u001b[0;32m     55\u001b[0m   \u001b[38;5;28;01mif\u001b[39;00m name \u001b[38;5;129;01mis\u001b[39;00m \u001b[38;5;129;01mnot\u001b[39;00m \u001b[38;5;28;01mNone\u001b[39;00m:\n",
      "\u001b[1;31mKeyboardInterrupt\u001b[0m: "
     ]
    }
   ],
   "source": [
    "train_loss, train_acc = model1.evaluate(trainDatagen)\n",
    "test_loss, test_acc   = model1.evaluate(valDatagen)\n",
    "print(\"final train accuracy = {:.2f} , validation accuracy = {:.2f}\".format(train_acc*100, test_acc*100))"
   ]
  },
  {
   "cell_type": "code",
   "execution_count": 11,
   "id": "304086c8",
   "metadata": {},
   "outputs": [
    {
     "name": "stdout",
     "output_type": "stream",
     "text": [
      "1/1 [==============================] - 1s 646ms/step\n",
      "1/1 [==============================] - 0s 63ms/step\n",
      "1/1 [==============================] - 0s 47ms/step\n",
      "1/1 [==============================] - 0s 47ms/step\n",
      "1/1 [==============================] - 0s 47ms/step\n",
      "1/1 [==============================] - 0s 54ms/step\n",
      "1/1 [==============================] - 0s 47ms/step\n",
      "1/1 [==============================] - 0s 47ms/step\n",
      "1/1 [==============================] - 0s 63ms/step\n",
      "1/1 [==============================] - 0s 62ms/step\n",
      "1/1 [==============================] - 0s 47ms/step\n",
      "1/1 [==============================] - 0s 47ms/step\n",
      "1/1 [==============================] - 0s 47ms/step\n",
      "1/1 [==============================] - 0s 55ms/step\n",
      "1/1 [==============================] - 0s 47ms/step\n",
      "1/1 [==============================] - 0s 47ms/step\n",
      "1/1 [==============================] - 0s 47ms/step\n",
      "1/1 [==============================] - 0s 47ms/step\n",
      "1/1 [==============================] - 0s 47ms/step\n",
      "1/1 [==============================] - 0s 47ms/step\n",
      "1/1 [==============================] - 0s 54ms/step\n",
      "1/1 [==============================] - 0s 47ms/step\n",
      "1/1 [==============================] - 0s 45ms/step\n",
      "1/1 [==============================] - 0s 45ms/step\n",
      "1/1 [==============================] - 0s 47ms/step\n",
      "1/1 [==============================] - 0s 47ms/step\n",
      "1/1 [==============================] - 0s 47ms/step\n",
      "1/1 [==============================] - 0s 42ms/step\n",
      "1/1 [==============================] - 0s 47ms/step\n",
      "1/1 [==============================] - 0s 47ms/step\n",
      "1/1 [==============================] - 0s 55ms/step\n",
      "1/1 [==============================] - 0s 47ms/step\n",
      "1/1 [==============================] - 0s 53ms/step\n",
      "1/1 [==============================] - 0s 47ms/step\n",
      "1/1 [==============================] - 0s 63ms/step\n",
      "1/1 [==============================] - 0s 47ms/step\n",
      "1/1 [==============================] - 0s 63ms/step\n",
      "1/1 [==============================] - 0s 47ms/step\n",
      "1/1 [==============================] - 0s 47ms/step\n",
      "1/1 [==============================] - 0s 47ms/step\n",
      "1/1 [==============================] - 0s 47ms/step\n",
      "1/1 [==============================] - 0s 47ms/step\n",
      "1/1 [==============================] - 0s 47ms/step\n",
      "1/1 [==============================] - 0s 47ms/step\n",
      "1/1 [==============================] - 0s 47ms/step\n",
      "1/1 [==============================] - 0s 49ms/step\n",
      "1/1 [==============================] - 0s 61ms/step\n",
      "1/1 [==============================] - 0s 47ms/step\n",
      "1/1 [==============================] - 0s 47ms/step\n",
      "1/1 [==============================] - 0s 48ms/step\n",
      "1/1 [==============================] - 0s 47ms/step\n",
      "1/1 [==============================] - 0s 47ms/step\n",
      "1/1 [==============================] - 0s 47ms/step\n",
      "1/1 [==============================] - 0s 47ms/step\n",
      "1/1 [==============================] - 0s 47ms/step\n",
      "1/1 [==============================] - 0s 47ms/step\n",
      "1/1 [==============================] - 0s 47ms/step\n",
      "1/1 [==============================] - 0s 47ms/step\n",
      "1/1 [==============================] - 0s 47ms/step\n",
      "1/1 [==============================] - 0s 47ms/step\n",
      "1/1 [==============================] - 0s 47ms/step\n",
      "1/1 [==============================] - 0s 47ms/step\n",
      "1/1 [==============================] - 0s 47ms/step\n",
      "1/1 [==============================] - 0s 47ms/step\n",
      "1/1 [==============================] - 0s 47ms/step\n",
      "1/1 [==============================] - 0s 47ms/step\n",
      "1/1 [==============================] - 0s 63ms/step\n",
      "1/1 [==============================] - 0s 45ms/step\n",
      "1/1 [==============================] - 0s 47ms/step\n",
      "1/1 [==============================] - 0s 47ms/step\n",
      "1/1 [==============================] - 0s 47ms/step\n",
      "1/1 [==============================] - 0s 47ms/step\n",
      "1/1 [==============================] - 0s 47ms/step\n",
      "1/1 [==============================] - 0s 41ms/step\n",
      "1/1 [==============================] - 0s 64ms/step\n",
      "1/1 [==============================] - 0s 38ms/step\n",
      "1/1 [==============================] - 0s 54ms/step\n",
      "1/1 [==============================] - 0s 47ms/step\n",
      "1/1 [==============================] - 0s 47ms/step\n",
      "1/1 [==============================] - 0s 47ms/step\n",
      "1/1 [==============================] - 0s 47ms/step\n",
      "1/1 [==============================] - 0s 63ms/step\n",
      "1/1 [==============================] - 0s 40ms/step\n",
      "1/1 [==============================] - 0s 47ms/step\n",
      "1/1 [==============================] - 0s 47ms/step\n",
      "1/1 [==============================] - 0s 47ms/step\n",
      "1/1 [==============================] - 0s 47ms/step\n",
      "1/1 [==============================] - 0s 47ms/step\n",
      "1/1 [==============================] - 0s 47ms/step\n",
      "1/1 [==============================] - 0s 47ms/step\n",
      "1/1 [==============================] - 0s 47ms/step\n",
      "1/1 [==============================] - 0s 47ms/step\n",
      "1/1 [==============================] - 0s 51ms/step\n",
      "1/1 [==============================] - 0s 47ms/step\n",
      "1/1 [==============================] - 0s 47ms/step\n",
      "1/1 [==============================] - 0s 63ms/step\n",
      "1/1 [==============================] - 0s 47ms/step\n",
      "1/1 [==============================] - 0s 47ms/step\n",
      "1/1 [==============================] - 0s 53ms/step\n",
      "1/1 [==============================] - 0s 47ms/step\n",
      "1/1 [==============================] - 0s 62ms/step\n",
      "1/1 [==============================] - 0s 61ms/step\n",
      "1/1 [==============================] - 0s 48ms/step\n",
      "1/1 [==============================] - 0s 47ms/step\n",
      "1/1 [==============================] - 0s 47ms/step\n",
      "1/1 [==============================] - 0s 47ms/step\n",
      "1/1 [==============================] - 0s 47ms/step\n",
      "1/1 [==============================] - 0s 47ms/step\n",
      "1/1 [==============================] - 0s 63ms/step\n",
      "1/1 [==============================] - 0s 47ms/step\n",
      "1/1 [==============================] - 0s 47ms/step\n",
      "1/1 [==============================] - 0s 47ms/step\n",
      "1/1 [==============================] - 0s 47ms/step\n",
      "1/1 [==============================] - 0s 47ms/step\n",
      "1/1 [==============================] - 0s 47ms/step\n",
      "1/1 [==============================] - 0s 47ms/step\n",
      "1/1 [==============================] - 0s 47ms/step\n",
      "1/1 [==============================] - 0s 50ms/step\n",
      "1/1 [==============================] - 0s 43ms/step\n",
      "1/1 [==============================] - 0s 47ms/step\n",
      "1/1 [==============================] - 0s 47ms/step\n",
      "1/1 [==============================] - 0s 47ms/step\n",
      "1/1 [==============================] - 0s 47ms/step\n",
      "1/1 [==============================] - 0s 63ms/step\n",
      "1/1 [==============================] - 0s 47ms/step\n",
      "1/1 [==============================] - 0s 47ms/step\n",
      "1/1 [==============================] - 0s 47ms/step\n",
      "1/1 [==============================] - 0s 47ms/step\n",
      "1/1 [==============================] - 0s 46ms/step\n",
      "1/1 [==============================] - 0s 63ms/step\n",
      "1/1 [==============================] - 0s 38ms/step\n",
      "1/1 [==============================] - 0s 47ms/step\n",
      "1/1 [==============================] - 0s 47ms/step\n",
      "1/1 [==============================] - 0s 47ms/step\n",
      "1/1 [==============================] - 0s 47ms/step\n",
      "1/1 [==============================] - 0s 47ms/step\n",
      "1/1 [==============================] - 0s 63ms/step\n",
      "1/1 [==============================] - 0s 47ms/step\n",
      "1/1 [==============================] - 0s 63ms/step\n",
      "1/1 [==============================] - 0s 47ms/step\n",
      "1/1 [==============================] - 0s 48ms/step\n",
      "1/1 [==============================] - 0s 47ms/step\n",
      "1/1 [==============================] - 0s 50ms/step\n",
      "1/1 [==============================] - 0s 55ms/step\n",
      "1/1 [==============================] - 0s 47ms/step\n",
      "1/1 [==============================] - 0s 47ms/step\n",
      "1/1 [==============================] - 0s 47ms/step\n",
      "1/1 [==============================] - 0s 47ms/step\n",
      "1/1 [==============================] - 0s 47ms/step\n",
      "1/1 [==============================] - 0s 47ms/step\n",
      "1/1 [==============================] - 0s 46ms/step\n",
      "1/1 [==============================] - 0s 47ms/step\n",
      "1/1 [==============================] - 0s 47ms/step\n",
      "1/1 [==============================] - 0s 47ms/step\n",
      "1/1 [==============================] - 0s 46ms/step\n",
      "1/1 [==============================] - 0s 62ms/step\n",
      "1/1 [==============================] - 0s 47ms/step\n"
     ]
    },
    {
     "name": "stdout",
     "output_type": "stream",
     "text": [
      "1/1 [==============================] - 0s 31ms/step\n",
      "1/1 [==============================] - 0s 47ms/step\n",
      "1/1 [==============================] - 0s 31ms/step\n",
      "1/1 [==============================] - 0s 63ms/step\n",
      "1/1 [==============================] - 0s 36ms/step\n",
      "1/1 [==============================] - 0s 66ms/step\n",
      "1/1 [==============================] - 0s 47ms/step\n",
      "1/1 [==============================] - 0s 47ms/step\n",
      "1/1 [==============================] - 0s 47ms/step\n",
      "1/1 [==============================] - 0s 44ms/step\n",
      "1/1 [==============================] - 0s 63ms/step\n",
      "1/1 [==============================] - 0s 47ms/step\n",
      "1/1 [==============================] - 0s 47ms/step\n",
      "1/1 [==============================] - 0s 45ms/step\n",
      "1/1 [==============================] - 0s 47ms/step\n",
      "1/1 [==============================] - 0s 47ms/step\n",
      "1/1 [==============================] - 0s 62ms/step\n",
      "1/1 [==============================] - 0s 47ms/step\n",
      "1/1 [==============================] - 0s 47ms/step\n",
      "1/1 [==============================] - 0s 47ms/step\n",
      "1/1 [==============================] - 0s 47ms/step\n",
      "1/1 [==============================] - 0s 63ms/step\n",
      "1/1 [==============================] - 0s 37ms/step\n",
      "1/1 [==============================] - 0s 47ms/step\n",
      "1/1 [==============================] - 0s 47ms/step\n",
      "1/1 [==============================] - 0s 47ms/step\n",
      "1/1 [==============================] - 0s 47ms/step\n",
      "1/1 [==============================] - 0s 47ms/step\n",
      "1/1 [==============================] - 0s 31ms/step\n",
      "1/1 [==============================] - 0s 47ms/step\n",
      "1/1 [==============================] - 0s 41ms/step\n",
      "1/1 [==============================] - 0s 47ms/step\n",
      "1/1 [==============================] - 0s 47ms/step\n",
      "1/1 [==============================] - 0s 47ms/step\n",
      "1/1 [==============================] - 0s 48ms/step\n",
      "1/1 [==============================] - 0s 57ms/step\n",
      "1/1 [==============================] - 0s 47ms/step\n",
      "1/1 [==============================] - 0s 47ms/step\n",
      "1/1 [==============================] - 0s 47ms/step\n",
      "1/1 [==============================] - 0s 62ms/step\n",
      "1/1 [==============================] - 0s 47ms/step\n",
      "1/1 [==============================] - 0s 47ms/step\n",
      "1/1 [==============================] - 0s 31ms/step\n",
      "1/1 [==============================] - 0s 55ms/step\n",
      "1/1 [==============================] - 0s 37ms/step\n",
      "1/1 [==============================] - 0s 47ms/step\n",
      "1/1 [==============================] - 0s 47ms/step\n",
      "1/1 [==============================] - 0s 47ms/step\n",
      "1/1 [==============================] - 0s 47ms/step\n",
      "1/1 [==============================] - 0s 47ms/step\n",
      "1/1 [==============================] - 0s 47ms/step\n",
      "1/1 [==============================] - 0s 63ms/step\n",
      "1/1 [==============================] - 0s 47ms/step\n",
      "1/1 [==============================] - 0s 47ms/step\n",
      "1/1 [==============================] - 0s 47ms/step\n",
      "1/1 [==============================] - 0s 47ms/step\n",
      "1/1 [==============================] - 0s 48ms/step\n",
      "1/1 [==============================] - 0s 46ms/step\n",
      "1/1 [==============================] - 0s 47ms/step\n",
      "1/1 [==============================] - 0s 63ms/step\n",
      "1/1 [==============================] - 0s 47ms/step\n",
      "1/1 [==============================] - 0s 47ms/step\n",
      "1/1 [==============================] - 0s 47ms/step\n",
      "1/1 [==============================] - 0s 47ms/step\n",
      "1/1 [==============================] - 0s 63ms/step\n",
      "1/1 [==============================] - 0s 47ms/step\n",
      "1/1 [==============================] - 0s 47ms/step\n",
      "1/1 [==============================] - 0s 53ms/step\n",
      "1/1 [==============================] - 0s 47ms/step\n",
      "1/1 [==============================] - 0s 62ms/step\n",
      "1/1 [==============================] - 0s 47ms/step\n",
      "1/1 [==============================] - 0s 47ms/step\n",
      "1/1 [==============================] - 0s 47ms/step\n",
      "1/1 [==============================] - 0s 47ms/step\n",
      "1/1 [==============================] - 0s 47ms/step\n",
      "1/1 [==============================] - 0s 32ms/step\n",
      "1/1 [==============================] - 0s 47ms/step\n",
      "1/1 [==============================] - 0s 47ms/step\n",
      "1/1 [==============================] - 0s 63ms/step\n",
      "1/1 [==============================] - 0s 63ms/step\n",
      "1/1 [==============================] - 0s 47ms/step\n",
      "1/1 [==============================] - 0s 47ms/step\n",
      "1/1 [==============================] - 0s 47ms/step\n",
      "1/1 [==============================] - 0s 47ms/step\n",
      "1/1 [==============================] - 0s 47ms/step\n",
      "1/1 [==============================] - 0s 56ms/step\n",
      "1/1 [==============================] - 0s 47ms/step\n",
      "1/1 [==============================] - 0s 47ms/step\n",
      "1/1 [==============================] - 0s 63ms/step\n",
      "1/1 [==============================] - 0s 47ms/step\n",
      "1/1 [==============================] - 0s 47ms/step\n",
      "1/1 [==============================] - 0s 48ms/step\n",
      "1/1 [==============================] - 0s 47ms/step\n",
      "1/1 [==============================] - 0s 47ms/step\n",
      "1/1 [==============================] - 0s 47ms/step\n",
      "1/1 [==============================] - 0s 47ms/step\n",
      "1/1 [==============================] - 0s 47ms/step\n",
      "1/1 [==============================] - 0s 47ms/step\n",
      "1/1 [==============================] - 0s 62ms/step\n",
      "1/1 [==============================] - 0s 47ms/step\n",
      "1/1 [==============================] - 0s 47ms/step\n",
      "1/1 [==============================] - 0s 47ms/step\n",
      "1/1 [==============================] - 0s 44ms/step\n",
      "1/1 [==============================] - 0s 47ms/step\n",
      "1/1 [==============================] - 0s 48ms/step\n",
      "1/1 [==============================] - 0s 47ms/step\n",
      "1/1 [==============================] - 0s 47ms/step\n",
      "1/1 [==============================] - 0s 47ms/step\n",
      "1/1 [==============================] - 0s 47ms/step\n",
      "1/1 [==============================] - 0s 47ms/step\n",
      "1/1 [==============================] - 0s 47ms/step\n",
      "1/1 [==============================] - 0s 47ms/step\n",
      "1/1 [==============================] - 0s 46ms/step\n",
      "1/1 [==============================] - 0s 32ms/step\n",
      "1/1 [==============================] - 0s 47ms/step\n",
      "1/1 [==============================] - 0s 31ms/step\n",
      "1/1 [==============================] - 0s 47ms/step\n",
      "1/1 [==============================] - 0s 47ms/step\n",
      "1/1 [==============================] - 0s 47ms/step\n",
      "1/1 [==============================] - 0s 47ms/step\n",
      "1/1 [==============================] - 0s 47ms/step\n",
      "1/1 [==============================] - 0s 47ms/step\n",
      "1/1 [==============================] - 0s 47ms/step\n",
      "1/1 [==============================] - 0s 63ms/step\n",
      "1/1 [==============================] - 0s 47ms/step\n",
      "1/1 [==============================] - 0s 51ms/step\n",
      "1/1 [==============================] - 0s 53ms/step\n",
      "1/1 [==============================] - 0s 47ms/step\n",
      "1/1 [==============================] - 0s 47ms/step\n",
      "1/1 [==============================] - 0s 47ms/step\n",
      "1/1 [==============================] - 0s 47ms/step\n",
      "1/1 [==============================] - 0s 47ms/step\n",
      "1/1 [==============================] - 0s 47ms/step\n",
      "1/1 [==============================] - 0s 46ms/step\n",
      "1/1 [==============================] - 0s 31ms/step\n",
      "1/1 [==============================] - 0s 48ms/step\n",
      "1/1 [==============================] - 0s 47ms/step\n",
      "1/1 [==============================] - 0s 47ms/step\n",
      "1/1 [==============================] - 0s 47ms/step\n",
      "1/1 [==============================] - 0s 47ms/step\n",
      "1/1 [==============================] - 0s 47ms/step\n",
      "1/1 [==============================] - 0s 47ms/step\n",
      "1/1 [==============================] - 0s 48ms/step\n",
      "1/1 [==============================] - 0s 44ms/step\n",
      "1/1 [==============================] - 0s 63ms/step\n",
      "1/1 [==============================] - 0s 63ms/step\n",
      "1/1 [==============================] - 0s 47ms/step\n",
      "1/1 [==============================] - 0s 47ms/step\n",
      "1/1 [==============================] - 0s 47ms/step\n",
      "1/1 [==============================] - 0s 47ms/step\n",
      "1/1 [==============================] - 0s 54ms/step\n",
      "1/1 [==============================] - 0s 47ms/step\n",
      "1/1 [==============================] - 0s 64ms/step\n",
      "1/1 [==============================] - 0s 47ms/step\n",
      "1/1 [==============================] - 0s 47ms/step\n",
      "1/1 [==============================] - 0s 47ms/step\n",
      "1/1 [==============================] - 0s 50ms/step\n"
     ]
    },
    {
     "name": "stdout",
     "output_type": "stream",
     "text": [
      "1/1 [==============================] - 0s 39ms/step\n",
      "1/1 [==============================] - 0s 47ms/step\n",
      "1/1 [==============================] - 0s 47ms/step\n",
      "1/1 [==============================] - 0s 62ms/step\n",
      "1/1 [==============================] - 0s 41ms/step\n",
      "1/1 [==============================] - 0s 47ms/step\n",
      "1/1 [==============================] - 0s 47ms/step\n",
      "1/1 [==============================] - 0s 47ms/step\n",
      "1/1 [==============================] - 0s 47ms/step\n",
      "1/1 [==============================] - 0s 47ms/step\n",
      "1/1 [==============================] - 0s 52ms/step\n",
      "1/1 [==============================] - 0s 47ms/step\n",
      "1/1 [==============================] - 0s 47ms/step\n",
      "1/1 [==============================] - 0s 63ms/step\n",
      "1/1 [==============================] - 0s 47ms/step\n",
      "1/1 [==============================] - 0s 47ms/step\n",
      "1/1 [==============================] - 0s 47ms/step\n",
      "1/1 [==============================] - 0s 47ms/step\n",
      "1/1 [==============================] - 0s 47ms/step\n",
      "1/1 [==============================] - 0s 47ms/step\n",
      "1/1 [==============================] - 0s 47ms/step\n",
      "1/1 [==============================] - 0s 51ms/step\n",
      "1/1 [==============================] - 0s 47ms/step\n",
      "1/1 [==============================] - 0s 52ms/step\n",
      "1/1 [==============================] - 0s 47ms/step\n",
      "1/1 [==============================] - 0s 63ms/step\n",
      "1/1 [==============================] - 0s 47ms/step\n",
      "1/1 [==============================] - 0s 54ms/step\n",
      "1/1 [==============================] - 0s 47ms/step\n",
      "1/1 [==============================] - 0s 50ms/step\n",
      "1/1 [==============================] - 0s 47ms/step\n",
      "1/1 [==============================] - 0s 47ms/step\n",
      "1/1 [==============================] - 0s 33ms/step\n"
     ]
    }
   ],
   "source": [
    "import cv2\n",
    "import numpy as np\n",
    "\n",
    "# Load the cascade classifier\n",
    "face_cascade = cv2.CascadeClassifier(cv2.data.haarcascades + 'haarcascade_frontalface_default.xml')\n",
    "\n",
    "# Start capturing video from webcam\n",
    "cap = cv2.VideoCapture(0)\n",
    "\n",
    "while True:\n",
    "    ret, frame = cap.read()\n",
    "    \n",
    "    if not ret:\n",
    "        print(\"Error: failed to capture image\")\n",
    "        break\n",
    "    \n",
    "    # Convert the image to grayscale\n",
    "    gray = cv2.cvtColor(frame, cv2.COLOR_BGR2GRAY)\n",
    "\n",
    "    # Detect faces in the image\n",
    "    faces = face_cascade.detectMultiScale(gray, 1.3, 5)\n",
    "\n",
    "    # Draw rectangles around the faces and make predictions\n",
    "    for (x, y, w, h) in faces:\n",
    "        # Extract the face ROI\n",
    "        roi_gray = gray[y:y+h, x:x+w]\n",
    "        roi_gray = cv2.resize(roi_gray, (48, 48))\n",
    "        roi_gray = np.reshape(roi_gray, (1, 48, 48, 1)) / 255.0\n",
    "        \n",
    "        # Make a prediction\n",
    "        prediction = model1.predict(roi_gray)\n",
    "        \n",
    "        # Get the predicted emotion\n",
    "        maxindex = int(np.argmax(prediction))\n",
    "        emotion = Emotion_Classes[maxindex]\n",
    "\n",
    "        # Draw the rectangle and predicted emotion text\n",
    "        cv2.rectangle(frame, (x, y), (x+w, y+h), (0, 255, 0), 2)\n",
    "        cv2.putText(frame, emotion, (x, y-10), cv2.FONT_HERSHEY_SIMPLEX, 0.9, (0, 255, 0), 2)\n",
    "    \n",
    "    # Display the resulting image\n",
    "    cv2.imshow('frame', frame)\n",
    "    \n",
    "    # Exit the program when the 'q' key is pressed\n",
    "    if cv2.waitKey(1) & 0xFF == ord('q'):\n",
    "        break\n",
    "\n",
    "# Release the capture and destroy all windows\n",
    "cap.release()\n",
    "cv2.destroyAllWindows()\n"
   ]
  },
  {
   "cell_type": "code",
   "execution_count": 39,
   "id": "694e26f8",
   "metadata": {
    "scrolled": true
   },
   "outputs": [
    {
     "name": "stdout",
     "output_type": "stream",
     "text": [
      "1.4.2\n",
      "0.20.1\n"
     ]
    }
   ],
   "source": [
    "import pydot\n",
    "print(pydot.__version__)\n",
    "\n",
    "import graphviz\n",
    "print(graphviz.__version__)"
   ]
  },
  {
   "cell_type": "code",
   "execution_count": 42,
   "id": "9263f759",
   "metadata": {},
   "outputs": [
    {
     "name": "stdout",
     "output_type": "stream",
     "text": [
      "You must install pydot (`pip install pydot`) and install graphviz (see instructions at https://graphviz.gitlab.io/download/) for plot_model to work.\n"
     ]
    }
   ],
   "source": [
    "from keras.utils import plot_model\n",
    "\n",
    "plot_model(model, to_file='model.png', show_shapes=True)"
   ]
  },
  {
   "cell_type": "code",
   "execution_count": 30,
   "id": "ed0c811a",
   "metadata": {},
   "outputs": [
    {
     "name": "stdout",
     "output_type": "stream",
     "text": [
      "Requirement already satisfied: pydot in c:\\python310\\lib\\site-packages (1.4.2)\n",
      "Requirement already satisfied: pyparsing>=2.1.4 in c:\\python310\\lib\\site-packages (from pydot) (3.0.9)\n",
      "Note: you may need to restart the kernel to use updated packages.\n"
     ]
    }
   ],
   "source": [
    "pip install pydot"
   ]
  },
  {
   "cell_type": "code",
   "execution_count": 31,
   "id": "93e42de3",
   "metadata": {},
   "outputs": [
    {
     "name": "stdout",
     "output_type": "stream",
     "text": [
      "Collecting pydot_ng\n",
      "  Downloading pydot_ng-2.0.0-py2.py3-none-any.whl (20 kB)\n",
      "Requirement already satisfied: pyparsing>=2.0.1 in c:\\python310\\lib\\site-packages (from pydot_ng) (3.0.9)\n",
      "Installing collected packages: pydot_ng\n",
      "Successfully installed pydot_ng-2.0.0\n",
      "Note: you may need to restart the kernel to use updated packages.\n"
     ]
    }
   ],
   "source": [
    "pip install pydot_ng"
   ]
  },
  {
   "cell_type": "code",
   "execution_count": 32,
   "id": "86882e2b",
   "metadata": {},
   "outputs": [
    {
     "name": "stdout",
     "output_type": "stream",
     "text": [
      "Requirement already satisfied: graphviz in c:\\python310\\lib\\site-packages (0.20.1)\n",
      "Note: you may need to restart the kernel to use updated packages.\n"
     ]
    }
   ],
   "source": [
    "pip install graphviz"
   ]
  },
  {
   "cell_type": "code",
   "execution_count": 33,
   "id": "a0ceba7c",
   "metadata": {},
   "outputs": [
    {
     "name": "stdout",
     "output_type": "stream",
     "text": [
      "Collecting plot_model\n",
      "  Downloading plot_model-0.20-py3-none-any.whl (6.9 kB)\n",
      "Installing collected packages: plot_model\n",
      "Successfully installed plot_model-0.20\n",
      "Note: you may need to restart the kernel to use updated packages.\n"
     ]
    }
   ],
   "source": [
    "pip install plot_model"
   ]
  },
  {
   "cell_type": "code",
   "execution_count": 44,
   "id": "c3c18b17",
   "metadata": {},
   "outputs": [
    {
     "name": "stdout",
     "output_type": "stream",
     "text": [
      "You must install pydot (`pip install pydot`) and install graphviz (see instructions at https://graphviz.gitlab.io/download/) for plot_model to work.\n"
     ]
    }
   ],
   "source": [
    "tf.keras.utils.plot_model(model, show_shapes=True, show_layer_names=True, to_file='model.png')"
   ]
  },
  {
   "cell_type": "code",
   "execution_count": 30,
   "id": "c4707413",
   "metadata": {},
   "outputs": [],
   "source": [
    "def BKStart(input_shape=(42, 42, 1), num_classes=7):\n",
    "    model = tf.keras.models.Sequential([\n",
    "        # Convolutional layer 1\n",
    "        tf.keras.layers.Conv2D(32, (5, 5), strides=(1, 1), padding='same',activation='relu', input_shape=input_shape),\n",
    "        # Max pooling layer 1\n",
    "        tf.keras.layers.MaxPooling2D(pool_size=(3, 3), strides=(2, 2)),\n",
    "        # Convolutional layer 2\n",
    "        tf.keras.layers.Conv2D(32, (4, 4), strides=(1, 1), padding='same',activation='relu'),\n",
    "        # Average pooling layer 1\n",
    "        tf.keras.layers.AveragePooling2D(pool_size=(3, 3), strides=(2, 2)),\n",
    "        # Convolutional layer 3\n",
    "        tf.keras.layers.Conv2D(64, (5, 5), strides=(1, 1),activation='relu', padding='same'),\n",
    "        # Average pooling layer 2\n",
    "        tf.keras.layers.AveragePooling2D(pool_size=(3, 3), strides=(2, 2)),\n",
    "        # Flatten layer\n",
    "        tf.keras.layers.Flatten(),\n",
    "        # Fully connected layer 1\n",
    "        tf.keras.layers.Dense(3072,activation='relu'),\n",
    "        # Fully connected layer 2\n",
    "        tf.keras.layers.Dense(num_classes)\n",
    "    ])\n",
    "    \n",
    "    return model\n"
   ]
  },
  {
   "cell_type": "code",
   "execution_count": 31,
   "id": "22ee95f9",
   "metadata": {},
   "outputs": [
    {
     "name": "stdout",
     "output_type": "stream",
     "text": [
      "Model: \"sequential_4\"\n",
      "_________________________________________________________________\n",
      " Layer (type)                Output Shape              Param #   \n",
      "=================================================================\n",
      " conv2d_12 (Conv2D)          (None, 42, 42, 32)        832       \n",
      "                                                                 \n",
      " max_pooling2d_4 (MaxPooling  (None, 20, 20, 32)       0         \n",
      " 2D)                                                             \n",
      "                                                                 \n",
      " conv2d_13 (Conv2D)          (None, 20, 20, 32)        16416     \n",
      "                                                                 \n",
      " average_pooling2d_8 (Averag  (None, 9, 9, 32)         0         \n",
      " ePooling2D)                                                     \n",
      "                                                                 \n",
      " conv2d_14 (Conv2D)          (None, 9, 9, 64)          51264     \n",
      "                                                                 \n",
      " average_pooling2d_9 (Averag  (None, 4, 4, 64)         0         \n",
      " ePooling2D)                                                     \n",
      "                                                                 \n",
      " flatten_3 (Flatten)         (None, 1024)              0         \n",
      "                                                                 \n",
      " dense_8 (Dense)             (None, 3072)              3148800   \n",
      "                                                                 \n",
      " dense_9 (Dense)             (None, 7)                 21511     \n",
      "                                                                 \n",
      "=================================================================\n",
      "Total params: 3,238,823\n",
      "Trainable params: 3,238,823\n",
      "Non-trainable params: 0\n",
      "_________________________________________________________________\n"
     ]
    }
   ],
   "source": [
    "model2=BKStart()\n",
    "model2.summary()"
   ]
  },
  {
   "cell_type": "code",
   "execution_count": 110,
   "id": "8d319a93",
   "metadata": {},
   "outputs": [],
   "source": [
    "model2=load_model('model_optimal1.h5')"
   ]
  },
  {
   "cell_type": "code",
   "execution_count": 111,
   "id": "05faac59",
   "metadata": {},
   "outputs": [
    {
     "name": "stdout",
     "output_type": "stream",
     "text": [
      "Model: \"sequential_9\"\n",
      "_________________________________________________________________\n",
      " Layer (type)                Output Shape              Param #   \n",
      "=================================================================\n",
      " conv2d_54 (Conv2D)          (None, 46, 46, 32)        320       \n",
      "                                                                 \n",
      " conv2d_55 (Conv2D)          (None, 44, 44, 32)        9248      \n",
      "                                                                 \n",
      " batch_normalization_37 (Bat  (None, 44, 44, 32)       128       \n",
      " chNormalization)                                                \n",
      "                                                                 \n",
      " max_pooling2d_27 (MaxPoolin  (None, 22, 22, 32)       0         \n",
      " g2D)                                                            \n",
      "                                                                 \n",
      " dropout_36 (Dropout)        (None, 22, 22, 32)        0         \n",
      "                                                                 \n",
      " conv2d_56 (Conv2D)          (None, 20, 20, 64)        18496     \n",
      "                                                                 \n",
      " batch_normalization_38 (Bat  (None, 20, 20, 64)       256       \n",
      " chNormalization)                                                \n",
      "                                                                 \n",
      " conv2d_57 (Conv2D)          (None, 18, 18, 64)        36928     \n",
      "                                                                 \n",
      " batch_normalization_39 (Bat  (None, 18, 18, 64)       256       \n",
      " chNormalization)                                                \n",
      "                                                                 \n",
      " max_pooling2d_28 (MaxPoolin  (None, 9, 9, 64)         0         \n",
      " g2D)                                                            \n",
      "                                                                 \n",
      " dropout_37 (Dropout)        (None, 9, 9, 64)          0         \n",
      "                                                                 \n",
      " conv2d_58 (Conv2D)          (None, 7, 7, 128)         73856     \n",
      "                                                                 \n",
      " batch_normalization_40 (Bat  (None, 7, 7, 128)        512       \n",
      " chNormalization)                                                \n",
      "                                                                 \n",
      " conv2d_59 (Conv2D)          (None, 5, 5, 128)         147584    \n",
      "                                                                 \n",
      " batch_normalization_41 (Bat  (None, 5, 5, 128)        512       \n",
      " chNormalization)                                                \n",
      "                                                                 \n",
      " max_pooling2d_29 (MaxPoolin  (None, 2, 2, 128)        0         \n",
      " g2D)                                                            \n",
      "                                                                 \n",
      " dropout_38 (Dropout)        (None, 2, 2, 128)         0         \n",
      "                                                                 \n",
      " flatten_9 (Flatten)         (None, 512)               0         \n",
      "                                                                 \n",
      " dense_18 (Dense)            (None, 1024)              525312    \n",
      "                                                                 \n",
      " batch_normalization_42 (Bat  (None, 1024)             4096      \n",
      " chNormalization)                                                \n",
      "                                                                 \n",
      " dropout_39 (Dropout)        (None, 1024)              0         \n",
      "                                                                 \n",
      " dense_19 (Dense)            (None, 7)                 7175      \n",
      "                                                                 \n",
      "=================================================================\n",
      "Total params: 824,679\n",
      "Trainable params: 821,799\n",
      "Non-trainable params: 2,880\n",
      "_________________________________________________________________\n"
     ]
    }
   ],
   "source": [
    "model2.summary()"
   ]
  },
  {
   "cell_type": "code",
   "execution_count": 48,
   "id": "aca72a15",
   "metadata": {},
   "outputs": [
    {
     "name": "stdout",
     "output_type": "stream",
     "text": [
      "Requirement already satisfied: nbconvert in c:\\python310\\lib\\site-packages (6.5.0)\n",
      "Requirement already satisfied: MarkupSafe>=2.0 in c:\\python310\\lib\\site-packages (from nbconvert) (2.1.1)\n",
      "Requirement already satisfied: nbclient>=0.5.0 in c:\\python310\\lib\\site-packages (from nbconvert) (0.6.6)\n",
      "Requirement already satisfied: mistune<2,>=0.8.1 in c:\\python310\\lib\\site-packages (from nbconvert) (0.8.4)\n",
      "Requirement already satisfied: traitlets>=5.0 in c:\\python310\\lib\\site-packages (from nbconvert) (5.3.0)\n",
      "Requirement already satisfied: jupyter-core>=4.7 in c:\\python310\\lib\\site-packages (from nbconvert) (4.10.0)\n",
      "Requirement already satisfied: beautifulsoup4 in c:\\python310\\lib\\site-packages (from nbconvert) (4.11.1)\n",
      "Requirement already satisfied: jupyterlab-pygments in c:\\python310\\lib\\site-packages (from nbconvert) (0.2.2)\n",
      "Requirement already satisfied: nbformat>=5.1 in c:\\python310\\lib\\site-packages (from nbconvert) (5.4.0)\n",
      "Requirement already satisfied: pygments>=2.4.1 in c:\\python310\\lib\\site-packages (from nbconvert) (2.12.0)\n",
      "Requirement already satisfied: packaging in c:\\python310\\lib\\site-packages (from nbconvert) (21.3)\n",
      "Requirement already satisfied: pandocfilters>=1.4.1 in c:\\python310\\lib\\site-packages (from nbconvert) (1.5.0)\n",
      "Requirement already satisfied: tinycss2 in c:\\python310\\lib\\site-packages (from nbconvert) (1.1.1)\n",
      "Requirement already satisfied: bleach in c:\\python310\\lib\\site-packages (from nbconvert) (5.0.1)\n",
      "Requirement already satisfied: defusedxml in c:\\python310\\lib\\site-packages (from nbconvert) (0.7.1)\n",
      "Requirement already satisfied: entrypoints>=0.2.2 in c:\\python310\\lib\\site-packages (from nbconvert) (0.4)\n",
      "Requirement already satisfied: jinja2>=3.0 in c:\\python310\\lib\\site-packages (from nbconvert) (3.1.2)\n",
      "Requirement already satisfied: pywin32>=1.0 in c:\\python310\\lib\\site-packages (from jupyter-core>=4.7->nbconvert) (304)\n",
      "Requirement already satisfied: jupyter-client>=6.1.5 in c:\\python310\\lib\\site-packages (from nbclient>=0.5.0->nbconvert) (7.3.4)\n",
      "Requirement already satisfied: nest-asyncio in c:\\python310\\lib\\site-packages (from nbclient>=0.5.0->nbconvert) (1.5.5)\n",
      "Requirement already satisfied: jsonschema>=2.6 in c:\\python310\\lib\\site-packages (from nbformat>=5.1->nbconvert) (4.7.1)\n",
      "Requirement already satisfied: fastjsonschema in c:\\python310\\lib\\site-packages (from nbformat>=5.1->nbconvert) (2.15.3)\n",
      "Requirement already satisfied: soupsieve>1.2 in c:\\python310\\lib\\site-packages (from beautifulsoup4->nbconvert) (2.3.2.post1)\n",
      "Requirement already satisfied: webencodings in c:\\python310\\lib\\site-packages (from bleach->nbconvert) (0.5.1)\n",
      "Requirement already satisfied: six>=1.9.0 in c:\\python310\\lib\\site-packages (from bleach->nbconvert) (1.16.0)\n",
      "Requirement already satisfied: pyparsing!=3.0.5,>=2.0.2 in c:\\python310\\lib\\site-packages (from packaging->nbconvert) (3.0.9)\n",
      "Requirement already satisfied: attrs>=17.4.0 in c:\\python310\\lib\\site-packages (from jsonschema>=2.6->nbformat>=5.1->nbconvert) (21.4.0)\n",
      "Requirement already satisfied: pyrsistent!=0.17.0,!=0.17.1,!=0.17.2,>=0.14.0 in c:\\python310\\lib\\site-packages (from jsonschema>=2.6->nbformat>=5.1->nbconvert) (0.18.1)\n",
      "Requirement already satisfied: python-dateutil>=2.8.2 in c:\\python310\\lib\\site-packages (from jupyter-client>=6.1.5->nbclient>=0.5.0->nbconvert) (2.8.2)\n",
      "Requirement already satisfied: pyzmq>=23.0 in c:\\python310\\lib\\site-packages (from jupyter-client>=6.1.5->nbclient>=0.5.0->nbconvert) (23.2.0)\n",
      "Requirement already satisfied: tornado>=6.0 in c:\\python310\\lib\\site-packages (from jupyter-client>=6.1.5->nbclient>=0.5.0->nbconvert) (6.2)\n",
      "Note: you may need to restart the kernel to use updated packages.\n"
     ]
    }
   ],
   "source": [
    "pip install nbconvert"
   ]
  },
  {
   "cell_type": "code",
   "execution_count": 52,
   "id": "45e41566",
   "metadata": {},
   "outputs": [
    {
     "name": "stdout",
     "output_type": "stream",
     "text": [
      "Requirement already satisfied: nbconvert[webpdf] in c:\\python310\\lib\\site-packages (6.5.0)\n",
      "Requirement already satisfied: traitlets>=5.0 in c:\\python310\\lib\\site-packages (from nbconvert[webpdf]) (5.3.0)\n",
      "Requirement already satisfied: pygments>=2.4.1 in c:\\python310\\lib\\site-packages (from nbconvert[webpdf]) (2.12.0)\n",
      "Requirement already satisfied: defusedxml in c:\\python310\\lib\\site-packages (from nbconvert[webpdf]) (0.7.1)\n",
      "Requirement already satisfied: nbclient>=0.5.0 in c:\\python310\\lib\\site-packages (from nbconvert[webpdf]) (0.6.6)\n",
      "Requirement already satisfied: packaging in c:\\python310\\lib\\site-packages (from nbconvert[webpdf]) (21.3)\n",
      "Requirement already satisfied: bleach in c:\\python310\\lib\\site-packages (from nbconvert[webpdf]) (5.0.1)\n",
      "Requirement already satisfied: jupyterlab-pygments in c:\\python310\\lib\\site-packages (from nbconvert[webpdf]) (0.2.2)\n",
      "Requirement already satisfied: entrypoints>=0.2.2 in c:\\python310\\lib\\site-packages (from nbconvert[webpdf]) (0.4)\n",
      "Requirement already satisfied: beautifulsoup4 in c:\\python310\\lib\\site-packages (from nbconvert[webpdf]) (4.11.1)\n",
      "Requirement already satisfied: mistune<2,>=0.8.1 in c:\\python310\\lib\\site-packages (from nbconvert[webpdf]) (0.8.4)\n",
      "Requirement already satisfied: nbformat>=5.1 in c:\\python310\\lib\\site-packages (from nbconvert[webpdf]) (5.4.0)\n",
      "Requirement already satisfied: jupyter-core>=4.7 in c:\\python310\\lib\\site-packages (from nbconvert[webpdf]) (4.10.0)\n",
      "Requirement already satisfied: jinja2>=3.0 in c:\\python310\\lib\\site-packages (from nbconvert[webpdf]) (3.1.2)\n",
      "Requirement already satisfied: tinycss2 in c:\\python310\\lib\\site-packages (from nbconvert[webpdf]) (1.1.1)\n",
      "Requirement already satisfied: pandocfilters>=1.4.1 in c:\\python310\\lib\\site-packages (from nbconvert[webpdf]) (1.5.0)\n",
      "Requirement already satisfied: MarkupSafe>=2.0 in c:\\python310\\lib\\site-packages (from nbconvert[webpdf]) (2.1.1)\n",
      "Collecting pyppeteer<1.1,>=1\n",
      "  Downloading pyppeteer-1.0.2-py3-none-any.whl (83 kB)\n",
      "     ---------------------------------------- 83.4/83.4 kB 2.4 MB/s eta 0:00:00\n",
      "Requirement already satisfied: pywin32>=1.0 in c:\\python310\\lib\\site-packages (from jupyter-core>=4.7->nbconvert[webpdf]) (304)\n",
      "Requirement already satisfied: jupyter-client>=6.1.5 in c:\\python310\\lib\\site-packages (from nbclient>=0.5.0->nbconvert[webpdf]) (7.3.4)\n",
      "Requirement already satisfied: nest-asyncio in c:\\python310\\lib\\site-packages (from nbclient>=0.5.0->nbconvert[webpdf]) (1.5.5)\n",
      "Requirement already satisfied: fastjsonschema in c:\\python310\\lib\\site-packages (from nbformat>=5.1->nbconvert[webpdf]) (2.15.3)\n",
      "Requirement already satisfied: jsonschema>=2.6 in c:\\python310\\lib\\site-packages (from nbformat>=5.1->nbconvert[webpdf]) (4.7.1)\n",
      "Collecting websockets<11.0,>=10.0\n",
      "  Downloading websockets-10.4-cp310-cp310-win_amd64.whl (101 kB)\n",
      "     -------------------------------------- 101.4/101.4 kB 6.1 MB/s eta 0:00:00\n",
      "Collecting pyee<9.0.0,>=8.1.0\n",
      "  Downloading pyee-8.2.2-py2.py3-none-any.whl (12 kB)\n",
      "Collecting appdirs<2.0.0,>=1.4.3\n",
      "  Downloading appdirs-1.4.4-py2.py3-none-any.whl (9.6 kB)\n",
      "Requirement already satisfied: certifi>=2021 in c:\\python310\\lib\\site-packages (from pyppeteer<1.1,>=1->nbconvert[webpdf]) (2022.12.7)\n",
      "Collecting tqdm<5.0.0,>=4.42.1\n",
      "  Downloading tqdm-4.65.0-py3-none-any.whl (77 kB)\n",
      "     ---------------------------------------- 77.1/77.1 kB 4.5 MB/s eta 0:00:00\n",
      "Requirement already satisfied: urllib3<2.0.0,>=1.25.8 in c:\\python310\\lib\\site-packages (from pyppeteer<1.1,>=1->nbconvert[webpdf]) (1.26.14)\n",
      "Collecting importlib-metadata>=1.4\n",
      "  Downloading importlib_metadata-6.3.0-py3-none-any.whl (22 kB)\n",
      "Requirement already satisfied: soupsieve>1.2 in c:\\python310\\lib\\site-packages (from beautifulsoup4->nbconvert[webpdf]) (2.3.2.post1)\n",
      "Requirement already satisfied: webencodings in c:\\python310\\lib\\site-packages (from bleach->nbconvert[webpdf]) (0.5.1)\n",
      "Requirement already satisfied: six>=1.9.0 in c:\\python310\\lib\\site-packages (from bleach->nbconvert[webpdf]) (1.16.0)\n",
      "Requirement already satisfied: pyparsing!=3.0.5,>=2.0.2 in c:\\python310\\lib\\site-packages (from packaging->nbconvert[webpdf]) (3.0.9)\n",
      "Collecting zipp>=0.5\n",
      "  Downloading zipp-3.15.0-py3-none-any.whl (6.8 kB)\n",
      "Requirement already satisfied: pyrsistent!=0.17.0,!=0.17.1,!=0.17.2,>=0.14.0 in c:\\python310\\lib\\site-packages (from jsonschema>=2.6->nbformat>=5.1->nbconvert[webpdf]) (0.18.1)\n",
      "Requirement already satisfied: attrs>=17.4.0 in c:\\python310\\lib\\site-packages (from jsonschema>=2.6->nbformat>=5.1->nbconvert[webpdf]) (21.4.0)\n",
      "Requirement already satisfied: python-dateutil>=2.8.2 in c:\\python310\\lib\\site-packages (from jupyter-client>=6.1.5->nbclient>=0.5.0->nbconvert[webpdf]) (2.8.2)\n",
      "Requirement already satisfied: tornado>=6.0 in c:\\python310\\lib\\site-packages (from jupyter-client>=6.1.5->nbclient>=0.5.0->nbconvert[webpdf]) (6.2)\n",
      "Requirement already satisfied: pyzmq>=23.0 in c:\\python310\\lib\\site-packages (from jupyter-client>=6.1.5->nbclient>=0.5.0->nbconvert[webpdf]) (23.2.0)\n",
      "Requirement already satisfied: colorama in c:\\python310\\lib\\site-packages (from tqdm<5.0.0,>=4.42.1->pyppeteer<1.1,>=1->nbconvert[webpdf]) (0.4.5)\n",
      "Installing collected packages: pyee, appdirs, zipp, websockets, tqdm, importlib-metadata, pyppeteer\n",
      "Successfully installed appdirs-1.4.4 importlib-metadata-6.3.0 pyee-8.2.2 pyppeteer-1.0.2 tqdm-4.65.0 websockets-10.4 zipp-3.15.0\n",
      "Note: you may need to restart the kernel to use updated packages.\n"
     ]
    }
   ],
   "source": [
    "pip install nbconvert[webpdf]"
   ]
  },
  {
   "cell_type": "code",
   "execution_count": null,
   "id": "03cd0e64",
   "metadata": {},
   "outputs": [],
   "source": []
  }
 ],
 "metadata": {
  "kernelspec": {
   "display_name": "Python 3 (ipykernel)",
   "language": "python",
   "name": "python3"
  },
  "language_info": {
   "codemirror_mode": {
    "name": "ipython",
    "version": 3
   },
   "file_extension": ".py",
   "mimetype": "text/x-python",
   "name": "python",
   "nbconvert_exporter": "python",
   "pygments_lexer": "ipython3",
   "version": "3.10.2"
  }
 },
 "nbformat": 4,
 "nbformat_minor": 5
}
